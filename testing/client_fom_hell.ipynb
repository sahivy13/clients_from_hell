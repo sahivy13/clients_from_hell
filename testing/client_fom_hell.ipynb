{
 "cells": [
  {
   "cell_type": "code",
   "execution_count": 2,
   "metadata": {},
   "outputs": [],
   "source": [
    "import requests, time\n",
    "from bs4 import BeautifulSoup as bs\n",
    "import re\n",
    "import pandas as pd\n",
    "import numpy as np\n",
    "from nltk.stem import PorterStemmer\n",
    "from nltk.corpus import stopwords\n",
    "import re\n",
    "from collections import Counter\n",
    "import functools\n",
    "import operator\n",
    "import string\n",
    "from sklearn.model_selection import train_test_split"
   ]
  },
  {
   "cell_type": "code",
   "execution_count": 3,
   "metadata": {},
   "outputs": [],
   "source": [
    "def get_categories():\n",
    "    url = 'https://clientsfromhell.net/'\n",
    "    html = requests.get(url)\n",
    "    response = bs(html.content)\n",
    "    get_items = [category for category in response.find_all('li', {'class':'flex items-center'})]\n",
    "    categories = ['Dunces','Criminals','Deadbeats','Racists','Homophobes','Sexist','Frenemies','Cryptic','Ingrates','Chaotic Good']\n",
    "    category_pair = []\n",
    "    for item in get_items:\n",
    "        href = item.find('a').get('href')\n",
    "        item_name = re.sub('\\\\n','',item.text)\n",
    "        pair = (item_name, href)\n",
    "        if item_name in categories:\n",
    "            category_pair.append(pair)\n",
    "    return list(set(category_pair))"
   ]
  },
  {
   "cell_type": "code",
   "execution_count": 4,
   "metadata": {},
   "outputs": [
    {
     "output_type": "execute_result",
     "data": {
      "text/plain": "[('Dunces', '/tag/ignoramus/'),\n ('Ingrates', '/tag/Live-to-work/'),\n ('Racists', '/tag/Unwinnable-race/'),\n ('Homophobes', '/tag/Heterosapien/'),\n ('Cryptic', '/tag/Clear-as-coal/'),\n ('Sexist', '/tag/Breasts-and-Brains/'),\n ('Chaotic Good', '/tag/hell-michigan/'),\n ('Criminals', '/tag/freelance-felon/'),\n ('Frenemies', '/tag/Old-Friend/'),\n ('Deadbeats', '/tag/payday-mayday/')]"
     },
     "metadata": {},
     "execution_count": 4
    }
   ],
   "source": [
    "list_catetories = get_categories()\n",
    "list_catetories"
   ]
  },
  {
   "cell_type": "code",
   "execution_count": 5,
   "metadata": {},
   "outputs": [
    {
     "output_type": "execute_result",
     "data": {
      "text/plain": "[('https://clientsfromhell.net/tag/ignoramus/page/', 'Dunces'),\n ('https://clientsfromhell.net/tag/Live-to-work/page/', 'Ingrates'),\n ('https://clientsfromhell.net/tag/Unwinnable-race/page/', 'Racists'),\n ('https://clientsfromhell.net/tag/Heterosapien/page/', 'Homophobes'),\n ('https://clientsfromhell.net/tag/Clear-as-coal/page/', 'Cryptic'),\n ('https://clientsfromhell.net/tag/Breasts-and-Brains/page/', 'Sexist'),\n ('https://clientsfromhell.net/tag/hell-michigan/page/', 'Chaotic Good'),\n ('https://clientsfromhell.net/tag/freelance-felon/page/', 'Criminals'),\n ('https://clientsfromhell.net/tag/Old-Friend/page/', 'Frenemies'),\n ('https://clientsfromhell.net/tag/payday-mayday/page/', 'Deadbeats')]"
     },
     "metadata": {},
     "execution_count": 5
    }
   ],
   "source": [
    "list_url_patters = []\n",
    "\n",
    "def URL_CATEGORY_CREATOR(x):\n",
    "    for cat in list_catetories:\n",
    "        pattern = 'https://clientsfromhell.net'+cat[1]+'page/' # regex pattern for the urls to scrape\n",
    "        list_url_patters.append((pattern,cat[0]))\n",
    "    return list_url_patters\n",
    "        \n",
    "url_cat = URL_CATEGORY_CREATOR(list_catetories)\n",
    "url_cat"
   ]
  },
  {
   "cell_type": "code",
   "execution_count": 6,
   "metadata": {
    "tags": []
   },
   "outputs": [
    {
     "output_type": "stream",
     "name": "stdout",
     "text": "https://clientsfromhell.net/tag/ignoramus/page/\nhttps://clientsfromhell.net/tag/Live-to-work/page/\nhttps://clientsfromhell.net/tag/Unwinnable-race/page/\nhttps://clientsfromhell.net/tag/Heterosapien/page/\nhttps://clientsfromhell.net/tag/Clear-as-coal/page/\nhttps://clientsfromhell.net/tag/Breasts-and-Brains/page/\nhttps://clientsfromhell.net/tag/hell-michigan/page/\nhttps://clientsfromhell.net/tag/freelance-felon/page/\nhttps://clientsfromhell.net/tag/Old-Friend/page/\nhttps://clientsfromhell.net/tag/payday-mayday/page/\n"
    }
   ],
   "source": [
    "for url in url_cat:\n",
    "    print(url[0])"
   ]
  },
  {
   "cell_type": "code",
   "execution_count": 7,
   "metadata": {},
   "outputs": [
    {
     "output_type": "execute_result",
     "data": {
      "text/plain": "[('https://clientsfromhell.net/tag/ignoramus/page/', '90', 'Dunces'),\n ('https://clientsfromhell.net/tag/Live-to-work/page/', '27', 'Ingrates'),\n ('https://clientsfromhell.net/tag/Unwinnable-race/page/', '7', 'Racists'),\n ('https://clientsfromhell.net/tag/Heterosapien/page/', '3', 'Homophobes'),\n ('https://clientsfromhell.net/tag/Clear-as-coal/page/', '55', 'Cryptic'),\n ('https://clientsfromhell.net/tag/Breasts-and-Brains/page/', '6', 'Sexist'),\n ('https://clientsfromhell.net/tag/hell-michigan/page/', '44', 'Chaotic Good'),\n ('https://clientsfromhell.net/tag/freelance-felon/page/', '15', 'Criminals'),\n ('https://clientsfromhell.net/tag/Old-Friend/page/', '4', 'Frenemies'),\n ('https://clientsfromhell.net/tag/payday-mayday/page/', '64', 'Deadbeats')]"
     },
     "metadata": {},
     "execution_count": 7
    }
   ],
   "source": [
    "def PAGE_NUM_CREATOR(x):\n",
    "    list_url_num =[]\n",
    "    for url in url_cat:\n",
    "        html = requests.get(url[0]+'1')\n",
    "        response = bs(html.content)\n",
    "        list_items = response.find_all('a',{'class':'page-numbers'})\n",
    "\n",
    "        len_=len(list_items)-2\n",
    "        max_pag=list_items[len_].text\n",
    "        list_url_num.append((url[0],max_pag,url[1]))\n",
    "    return list_url_num\n",
    "\n",
    "list_all = PAGE_NUM_CREATOR(url_cat)\n",
    "list_all"
   ]
  },
  {
   "cell_type": "code",
   "execution_count": 8,
   "metadata": {},
   "outputs": [
    {
     "output_type": "execute_result",
     "data": {
      "text/plain": "o walk around and experiment how my\\nlocations will look. I also need to practice filming.Me:\\xa0No, I have to take it with me.Client:\\xa0Okay, fine. Wow, I guess you’re really attached to your camera!\\xa0',\n  'He had a way of suggesting my needs were personal faults. I wouldn’t have been surprised if I asked to be paid, and he responded\\xa0“I guess some people are just caught in the rat race, man!”',\n  'I accepted a small job of making a flyer for my\\naunt’s boyfriend’s amateur jazz band. After three weeks of going back and\\nforth, unnecessary changes that could have been avoided easily had his first\\nbrief been complete, I send him the invoice.',\n  'I get a call from him the next day.',\n  'Client: Well I didn’t know it would cost this much\\nmoney!',\n  'Me: I’m doing this work at a pretty big discount\\nactually.',\n  'Client: Look, I asked you because we’re\\nbasically family! I wanted to give you some work! I mean I could’ve\\ngone to anyone else!',\n  'Never again am I working for “family” members.',\n  'After getting out of the movies, I looked at my phone to find 10 texts from a friend explaining how, exactly, she wants me to design her son’s second birthday invites. ',\n  'I had never discussed this with her, she didn’t ask, and she simply assumed I was doing it. ',\n  'Client: Toy Story themed…. Paste his face on Woody’s head… Maybe Buzz Light Year to the side, I dunno you can design however you want… Toy Story fonts, Toy Story backgrounds, etc.',\n  'After the texts stopped coming in, I texted her back:',\n  'Me: We need to talk.',\n  'To which she responded:',\n  'Client:\\xa0 …but I don’t want it super themey.',\n  'Just before I was due to start work at a new client’s office, I received a text message from the client saying that the rain had flooded their office and the electricity was off, so the project would not be going ahead.',\n  'I was already out (and drenched to the bone), so I decided to drop by and see the extent of the damage. The office appeared to be dry and well-lit. To my surprise, an old friend from my home town was just outside. It turns out that he has also gone to school to be a graphic designer, and he had just locked a job. In fact, it was the job I was supposed to do, although they were paying him less.',\n  'We had a coffee and a chat in the office, after which, I called the client to commiserate about the recent rain. They complained about the situation and how unfair it was - up until I revealed where I was sitting. This revelation was met by a palpable silence. ',\n  'A couple of months later, the client had the audacity to call me and ask me to work there after my old friend didn’t work out. I told them that my terms were 100% down payment, and I never heard from them again.',\n  'I am a screenwriter with friends who make a living as crew film and television.',\n  'I have another friend who has a coding business (that, admittedly, I don’t fully understand, as it’s not my expertise).',\n  'Client: I want to make a commercial for [his product].',\n  'Me: Ok, great! What did you have in mind?',\n  'He excitedly tells me his idea. His passion is clear, but I know it’d be one boring commercial.',\n  'Me: Ok, um… yeah, we could do that. I could write a script for [low price because he’s a friend] and then I know a few people who could work on the commercial at a discount. We’d just need to get a good location and–',\n  'Client: Oh, I’ve got the location, we can shoot in my backyard.',\n  'Me: Oh.',\n  'Client: And I wouldn’t be paying anybody - especially at those prices. But I’m sure when they hear the project, they’d love to jump on board.',\n  'Me: Well, all the people I mentioned are professionals and -',\n  'Client: Do you know how many people would kill for an opportunity like this? This could make us all a lot of money.',\n  'Me: Well, again, they’re all professionals and would need to get paid up front for their time on set.',\n  'Client: But they’re just friends of yours. And we’ll be shooting in my backyard.',\n  'Me: Yeah, but these friends of mine are working professionals who make way more than the prices I mentioned. I might be able to convince them to work at that rate since it’s my script we’d be producing, but I won’t be able to push any further than that.',\n  'Client: But I’m sure they’d love this project and want to jump on board.',\n  'Me: For free…',\n  'Client: Exactly!',\n  'Me: You know what, I actually don’t think I’ll have time.',\n  'Client: Oh. That sucks. Well, give me your friends’ contact info so I can still get them.',\n  'I designed, programmed and uploaded a shop site for a client. In addition, I edited all her image files, edited her text, created animations, searched stock images, and put up with her midnight idea changes. All of this was done at a discount because she was a family friend. ',\n  'Then, for six months after the site was complete and uploaded, I tried to collect payment. She ignored my attempts. So I removed the main page. She finally responded to the last invoice I sent.',\n  'Client: Why did you remove my site?',\n  'Me: Because you have ignored my past attempts of contacting you for payment for my work.',\n  'Client: Oh, well - about that. I didn’t think I should pay you for this site.',\n  'Me: Why?',\n  'Client: Well after about a week, I didn’t receive any customers or traffic to the site. I don’t think you did your job very well if it can’t instantly grab attention of the public and bring them to my site.',\n  'Me: Then why do you still want the site?',\n  'She ended up paying me to get the site put back up.\\xa0'],\n ['I was doing a simple bit of free hosting help for a family friend – nothing complicated, just hosting a WordPress site and installing a theme.',\n  'I sent the person five recommended themes. A week went by and I heard no response, so I sent him an email reminder. Another week went by, no response, another email reminder. That cycle repeated three more times.',\n  'Finally, six weeks after my original email, he sends the following three emails all in one night while I was away from my computer:',\n  'Client (10:11PM):\\xa0I want to talk sometime before 10:30PM tonight. I’m really ready for this to get off the ground.',\n  'Client (10:44PM):\\xa0I guess we’re not talking tonight. I’m getting very tired of waiting on this. Email me back ASAP.',\n  'Client\\xa0(11:07PM):\\xa0I’m going to find someone else to do this. It’s clear that you just can’t reply in a timely manner.',\n  'Did I mention I was helping him for free?',\n  'I had my grandfather and his much younger business partner as a client.',\n  'Client:Your grandfather’s yahoo is broken.',\n  'Me: His yahoo? What, do you mean the email account has a problem, or is the website down?',\n  'Client: Yes, his email. You have to fix it. Do you have a few minutes?',\n  'Me: I live in Toronto, remember? He lives over two hours from here.',\n  'Client: No, I mean over the phone. You tell me, I’ll call him and tell him what to do. I think Yahoo has a virus.',\n  'Me: You mean you think his email was hacked?',\n  'Client: No, a\\xa0virus. He can’t log into his email. You reset his password and he can’t log in. I can log in using his email and password but the yahoo on his computer must have a virus. He took it to one of those shops and now his Yahoo doesn’t work.',\n  'Me: Are you sure he isn’t typing his new password in wrong? ',\n  'Client: No, that’s ridiculous. It must be a virus. Can you, like, Google a virus?',\n  'Me: Uh, yeah. I’ll call you back.',\n  'I had a coffee and checked my schedule to see if I could fit a trip out of Toronto to see my grandfather over the weekend. When I called to see when would work…',\n  'Client: It works! Everything is fine. Problem solved and your grandfather is relieved.',\n  'Me: Good! I’m glad the virus is gone.',\n  'Client: Don’t be silly, it was the password. He wasn’t typing it in right. Your grandfather’s very old, you know.',\n  'My uncle contacted me about doing three or four illustrations for his organization’s website. He said the work would be paid and we agreed on my price, adjusted for family. We corresponded and discussed what he wanted and what I was doing, with copies of my progress sent every now and then to keep his mind at ease. ',\n  'I sent over some work when we were about 75% complete so he could see how it was coming along.',\n  'Client:\\xa0What are these?',\n  'Me:\\xa0Illustrations, like you asked me to do.',\n  'Client:\\xa0Actually, we were hoping for you to redesign the website. These are nice though.',\n  'Me:\\xa0Well, I can redesign the website too, but I’ll have to charge a separate fee for that.',\n  'Client:\\xa0 I spoke to some of the other guys in the company. We were hoping that you’d do it for free, because you like the company.',\n  'Me:\\xa0But you said this was paid work.',\n  'Client:\\xa0Only to get you interested.',\n  'This was a friend, who was some unfortunate designer’s client a while back:',\n  'Client: Hey, I just downloaded Photoshop. How do I save jpegs as .eps in good quality? We need to get our company clothes printed ASAP and the printer doesn’t accept jpeg.',\n  'Me: Don’t you have your logo in vector format?',\n  'Client: The old one’s vectorized, but we only have small jpegs of the new one. Also, I made some adjustments. Photoshop lets me save as .eps, but it looks kind of bad.',\n  'Me: You can’t do that. Why not contact the agency that made the logo?',\n  'Client: That was a few months ago, and we haven’t exactly paid them yet.',\n  'I do photography on the side, and have done a friend’s family portraits for the past five years. I noticed recently that my friend and her mother were promoting her new boyfriend’s “awesome” photography. His album (titled ‘family’) was a mix of the past 5 years of my photographs, with his watermark stamped on top of them.',\n  'I was doing some social media and web design work for a client I knew personally. \\xa0The password suddenly changed on the web hosting and company email. Then I couldn’t log in to the Facebook page.',\n  'Me: Hey, did you take me off the Facebook page as an admin?',\n  'Client: Yes.',\n  'Me: Why is that?',\n  'No response came and a few hours later, I was kicked off of twitter as I was doing some work. Apparently the password had changed. ',\n  'Me: What’s going on?',\n  'No response. After some more time',\n  'Client: We hired someone else, **** not willing to pay what you want.',\n  'I was working for free because I wanted to build my portfolio',\n  'Me: Well, thanks for the opportunity and I’m sorry it didn’t work out. I would have preferred you talked to me instead of changing the passwords on work as I complete it. Regardless, good luck.',\n  'Client: (drunk via text) I tired to talk to you about it when u were here and said he had talked with you we had a lady already doing it he was shocked on what you wanted to charge thanks.',\n  'Last year, I was unemployed and was helping a friend with his business. I translated e-mails and phone calls for foreign clients. My friend bought a Chinese product to be resold in Italy, but he needed the instruction booklet in Italian. I proposed for translating the whole stuff and we agreed on a price less than half the “translating company” price. I worked for 40 hour, translating “chingrish” into a readable Italian, and gave the translated documents a week before the deadline. ',\n  'Client: Good job, but who told you to do this? I don’t remember agreeing to anything.',\n  'That didn’t stop him from posting the manual on the site. He hasn’t paid me and I haven’t heard from him since.\\xa0',\n  'Hey, I just gave your number to a friend of mine. He needs a website for his business, but he asked a web agency and they threw a huge price at him. Obviously, I thought of you. I told him since you’re a freelancer, you’ll do the website for next-to-free. When I told him that, he seemed very interested in working with you. No thanks necessary.\\xa0',\n  'I was helping a friend with a (free) design on a save-the-date mailer. After a variety of changes including one complete do-over, my friend was standing over my shoulder watching me make changes.',\n  'Client: I appreciate this. I can’t do what you do. ',\n  'Me: Thanks man, that - ',\n  'Client: Because I don’t have that software.'],\n ['My friend was looking for a video editor. Since I make a living as one, she turned to me. \\xa0',\n  'Client: I’m looking for an online editor that can do a short video in a couple of days. All the offline editing will be done by the director and you’ll just do the effects and clean-ups.\\xa0',\n  'Me: Do you have exactly what needs to be done? And how many days, exactly? I can give you my answer if I know more of the details.',\n  'Client: It’s just basic effects and clean ups. Probably five or so days. The payment will be x since we’re already almost over budget. I hope that’s okay with you.',\n  'Me: Can we meet up and discuss the project?\\xa0',\n  'Client: I’ll text you.',\n  'A couple of hours later, I get a call.',\n  'Client: Turns out you’ll be doing both the offline and online editing. You’ll get the footage on Saturday (the video was due Sunday). Pay is still the same.\\xa0',\n  'Me: I’m sorry. I’m not available to do all that work in that amount of time.',\n  'Client: How about you find someone to help you and you split the work and the money?',\n  'Me: Honestly, this won’t be enough money to get a real professional. ',\n  'Client: Don’t use a real professional then! Use a friend, that’s what I would do. ',\n  'Me: Yes, I know.\\xa0',\n  'I usually don’t do work-related favors for family, but last Christmas, I agreed to design a holiday card for my uncle. After five revisions and numerous options, my uncle was satisfied and sent out the cards. I found $10 in my PayPal.',\n  'Me: Hey, what’s this for?',\n  'Client:\\xa0 A tip for that card. ',\n  'It was seemingly thoughtful, but when the whole family got together for the annual gift exchange, it became apparent that I was somehow forgotten. The card I created was to inform each family member who they were the secret Santa for. And apparently, my uncle was supposed to be mine.',\n  'Client: We urgently need a website!\\xa0',\n  'Me: O-okay. Do you have something in mind?',\n  'Client: Yes, we want our website just like this [example site].\\xa0',\n  'Me: It’s a relief you have a good idea of what you want if there’s a rush to get this made. Do you have a rough estimate of how much you want to spend.',\n  'Client: We like to work like a family here.',\n  'Me: That’s a great way to work.',\n  'Client: So we don’t pay out money as wages are so low.\\xa0',\n  'Me: How does that work?\\xa0',\n  'Client: If you are as good as you say you are, you’ll be willing to work on a commission-basis. If we feel our website’s getting enough sales, we are willing to pay you your commission.\\xa0',\n  'Me: That won’t be possible for me, I need money to live.',\n  'Client: This is how we work. Take it or leave it.\\xa0',\n  'Me: Since there is nothing to leave, I’m going to have to say no.',\n  'Client: It takes a real *professional to work with us. I suspected you wouldn’t be up to the task.',\n  '*Editor’s note: From the Wikipedia page for ‘professional,’ first sentence: A\\xa0professional\\xa0is a person who is paid to undertake a specialized set of tasks and to complete them for a fee.',\n  'I was at a party when a client’s business partner approached me.\\xa0 ',\n  'Client: Hey, [Client] tells me you could answer a computer question for me.',\n  'Me: Depends.\\xa0What’s the question?',\n  'Client: My computer stopped working the other day. The light comes on but nothing happens.',\n  'Me: Well, it’s hard to say what might be the problem from just that. It could be something simple, it could be that something needs replacing. ',\n  'Client: \\xa0Pfft! That’s the best you can come up with? What a waste of my time.\\xa0',\n  'Client: My sister-in-law saw the visuals, and she wasn’t happy.',\n  'Me: What didn’t she like about them?',\n  'Client: She said they were shit and not worth the money.',\n  'Me: Do you think that?',\n  'Client: I haven’t looked at any of them yet.',\n  'A friend of mine asked if I could help out with a shoot for an acquaintance who was starting up a new company. After a lot of begging from my friend, I eventually said I’d do the shoot for free.',\n  'I had a meeting with my new “clients” and showed them my portfolio. They were happy with the quality of my work. During this meeting I told them that if any paying work came along, I’d put the editing of their shoot aside to complete the paid work first. Otherwise, we stipulated they’d get all their images after two weeks (as long as I\\xa0received\\xa0no other work). They agreed with this.',\n  'After getting half of the photos to them within the first week, I ended up with a paid job and had to put their work aside. Week two I get a e-mail from them demanding the rest of the images. I reminded them that they’d have to wait while I took care of my paying clients.',\n  'The third week I\\xa0delivered\\xa0the majority of their images. I then got an invoice from them charging me R500. ',\n  '(R = South African Rand, which is roughly 0.12 USD)',\n  'Client: You have cost the company money by not delivering the images on time, therefore we’re charging you.',\n  'Me: You’re charging me for providing you with a free shoot?',\n  'Client: You claimed you could provide a service and we set our time scale to that promise. You’ve failed to deliver and you’re costing us money, therefore we’ve sent you the invoice.',\n  'I decided to invoice them in return, including photographic rate, editing, etc. and sent them an invoice of about R20,000, with the R500 subtracted from the amount. By this time, the images I had supplied were already on their website.',\n  'Client: You just invoiced us? Is this a sick joke?',\n  'Me: I’ll be happy to make sure you get your remaining photos with in two days and pay you your R500, if you pay for my time and images.',\n  'Client: You’ll be hearing from our legal advisor soon!',\n  'Me: I look forward to hearing what your legal advisor says about you using my images for commercial gain, displaying them on your website and providing me with no credit while attempting to charge me, all while I was still operating within the conditions of our contract AND maintaining a copyright on all the images previously mentioned.\\xa0',\n  'Oddly, I never heard back from them or from the legal advisor. Since then, my images have remained on the site and I’ve even found a few of them in magazines featuring their product.',\n  '',\n  'Editor’s Note: I originally stated that 1R=1USD. I’m not sure how I got the conversion so wrong. Apologies.\\xa0',\n  'A friend wanted to help me out by offering me work that her company usually gave to an agency.',\n  'Client: Here is a copy of the brochure. We normally pay the agency about $500 to redo the brochure every year - but we’ve already spent $350, so I have $150 to pay you.',\n  'Attached was a cell-phone picture of a brochure.',\n  'Me: Oh, okay. That’s well below my usual rates, but it should be okay if you’re giving me the original assets for minor alterations.',\n  'Client: Yes, I already attached it - didn’t you see it on the email? No wonder you haven’t been getting much work - your attention to detail isn’t great is it?“',\n  'The client was referring to the cell-phone picture of their brochure. Needless to say, I thanked my friend for the opportunity before suggesting that their old agency might be in a better position to make the changes.',\n  'I made a small website for an acquaintance. A year and a half later, we ran into each other on the street.\\xa0',\n  'Client: I’m not satisfied.',\n  'Me: Sorry, with what? What’s wrong?',\n  'Client: I don’t know. People don’t use the website. I want my money back. People tell me I’ve paid too much and I don’t use it.\\xa0',\n  'Me:\\xa0It’s been way too long for a refund. I’m sorry you don’t use it, but I did everything you paid me to do.\\xa0',\n  'Client: Can we settle on half the money, then?']]"
     },
     "metadata": {},
     "execution_count": 8
    }
   ],
   "source": [
    "class IronhackSpider:\n",
    "    \n",
    "    def __init__(self, url_pattern, pages_to_scrape=1, sleep_interval=-1, content_parser=None):\n",
    "        self.url_pattern = url_pattern\n",
    "        self.pages_to_scrape = pages_to_scrape\n",
    "        self.sleep_interval = sleep_interval\n",
    "        self.content_parser = content_parser\n",
    "  \n",
    "    def scrape_url(self, url):\n",
    "        response = requests.get(url)\n",
    "        result = self.content_parser(response.content)\n",
    "        return result\n",
    "#         self.list_results(result)\n",
    "        \n",
    "#     def list_results(self, r):\n",
    "#         list_pages = []\n",
    "#         list_pages.append(r)\n",
    "#         return list_pages\n",
    "\n",
    "#     def output_results(self, r):\n",
    "#         print(r)\n",
    "\n",
    "#     def kickstart(self):\n",
    "#         for i in range(1, self.pages_to_scrape+1):\n",
    "#             self.scrape_url(self.url_pattern % i)\n",
    "            \n",
    "    def kickstart(self):\n",
    "        list_pages = []\n",
    "        for i in range(1, self.pages_to_scrape+1):\n",
    "            list_pages.append(self.scrape_url(self.url_pattern % i))            \n",
    "        return list_pages\n",
    "\n",
    "\n",
    "def content_parser(content):\n",
    "    return content\n",
    "\n",
    "def case_parser(content):\n",
    "    all_content = bs(content, \"html.parser\")\n",
    "    pre_content = all_content.select('div [class=\"w-blog-post-content\"] > p')\n",
    "    \n",
    "    case=[]\n",
    "    \n",
    "    for i, el in enumerate(pre_content):\n",
    "        text = el.text\n",
    "        case.append(text)\n",
    "\n",
    "    return case\n",
    "\n",
    "# Instantiate the IronhackSpider class\n",
    "html_cont_dict = {}\n",
    "\n",
    "for URL_PATTERN, PAGES_TO_SCRAPE, CAT in list_all:\n",
    "#     print(URL_PATTERN, PAGES_TO_SCRAPE, CAT)\n",
    "    my_spider = IronhackSpider(URL_PATTERN+'%s/', int(PAGES_TO_SCRAPE), content_parser=case_parser)\n",
    "    # Start scraping jobs\n",
    "    content = my_spider.kickstart()\n",
    "    html_cont_dict.update({CAT: content})\n",
    "    \n",
    "#     html_cont_dict.update(CAT, my_spider.kickstart())\n",
    "    \n",
    "html_cont_dict['Frenemies']"
   ]
  },
  {
   "cell_type": "code",
   "execution_count": 11,
   "metadata": {},
   "outputs": [],
   "source": [
    "import csv\n",
    "with open('client_from_hell_dic.csv', 'w') as f:\n",
    "    for key in html_cont_dict.keys():\n",
    "        f.write(\"%s,%s\\n\"%(key,html_cont_dict[key]))"
   ]
  },
  {
   "cell_type": "code",
   "execution_count": 12,
   "metadata": {},
   "outputs": [
    {
     "output_type": "execute_result",
     "data": {
      "text/plain": "False"
     },
     "metadata": {},
     "execution_count": 12
    }
   ],
   "source": [
    "stopwords = [\"mustn't\", 'have', 'now', \"shouldn't\", 'down', 'theirs', \n",
    "             'where', 'doing', 'who', 'is', 'how', 'which', 'up', 'if', \n",
    "             'nor', 'y', 'a', 'couldn', \"weren't\", 'your', 'in', 'themselves', \n",
    "             'only', 'both', 'will', 'own', 'we', 'by', 'these', 'into', 'once', \n",
    "             'her', 'when', 'o', 's', 've', 'again', 'mustn', 'they', 't', 'aren', \n",
    "             'his', \"haven't\", \"won't\", 'same', 'not', 'there', 'hadn', 'has', \n",
    "             'can', \"didn't\", 'those', 'then', 'this', 'shan', 'such', 'wasn', \n",
    "             'of', 'after', 'through', 'from', \"you'd\", 'shouldn', \"isn't\", 'being', \n",
    "             'too', \"that'll\", 'between', 'had', 'yours', 'very', 'i', 'because', \n",
    "             'him', 'are', \"needn't\", 'before', 'wouldn', 'my', 'what', 'the', 'during', \n",
    "             'isn', 'weren', 'against', 'don', 'off', 'll', 'am', 'our', 'should', \n",
    "             \"should've\", \"you've\", 'hers', 'their', 'more', 'than', 'himself', 'itself', \n",
    "             'with', 'just', \"hasn't\", 'he', 'any', 'to', \"couldn't\", \"you'll\", 'on', 'she', \n",
    "             \"she's\", 'ma', 'an', 'haven', 'was', 'few', 'each', 'that', 'further', 'didn', \n",
    "             \"hadn't\", \"it's\", 'over', 'you', 'me', 'about', 'mightn', 'most', 'be', 'so', \n",
    "             'won', 'them', 'why', 'needn', 'or', 'above', \"doesn't\", 'd', 'yourselves', \n",
    "             'ours', 'herself', 'as', 'some', 'under', \"don't\", 'at', 'all', \"wouldn't\", 'it', \n",
    "             'does', 'but', 'below', 'here', 'other', 'whom', 'ourselves', \"you're\", 'did', 'do', \n",
    "             'while', \"aren't\", 'having', 're', 'ain', 'were', 'hasn', 'no', 'out', 'and', 'for', \n",
    "             'yourself', 'been', 'm', 'myself', 'its', 'until', \"shan't\", \"wasn't\", \"mightn't\", 'doesn', \n",
    "             \"you’re\", \"aren’t\"]\n",
    "\n",
    "test = \"you're\"\n",
    "\n",
    "test not in stopwords"
   ]
  },
  {
   "cell_type": "code",
   "execution_count": 13,
   "metadata": {
    "tags": [
     "outputPrepend"
    ]
   },
   "outputs": [
    {
     "output_type": "stream",
     "name": "stdout",
     "text": "ed', 'sort', 'want', 'fix', 'great', 'thank', 'good', 'job', 'brilliant', 'send', 'invoic', 'show', 'client', 'like', 'realli', 'chang', 'agre', 'bit', 'naff', 'realli', 'pay', 'call', 'account', 'depart', 'great', 'want', 'someth', 'look', 'like', 'everyth', 'els', 'categori', 'make', 'pay', 'ruin', 'relationship', 'oh', 'sure', 'almost', 'forgot', 'much', 'owe', 'wait', 'thought', 'one', 'receiv', 'money', 'come', 'tell', 'actual', 'pay', 'cours', 'think', 'kind', 'short', 'us', 'take', 'away', 'first', 'last', 'paragraph', 'word', 'togeth', 'word', 'like', 'build', 'websit', 'compani', 'abl', 'pay', 'month', 'start', 'make', 'money', 'shame', 'year', 'thought', 'friend', 'probabl', 'abl', 'afford', 'type', 'invoic', 'next', 'month', 'thing', 'pretti', 'tight', 'cash', 'flow', 'right', 'still', 'need', 'amount', 'work', 'complet', 'report', 'thing', 'go', 'pay', 'half', 'much', 'sorri', 'money', 'money']\n['client', 'unhappi', 'peopl', 'take', 'part', 'campaign', 'sure', 'pay', 'sinc', 'sure', 'pay', 'us', 'look', 'happi', 'either', 'life', 'want', 'idea', 'counsel', 'suggest', 'logo', 'secondari', 'work', 'alreadi', 'partway', 'done', 'look', 'good', 'usabl', 'us', 'finish', 'skip', 'busi', 'card', 'call', 'total', 'think', 'fair', 'feel', 'like', 'two', 'sketch', 'complet', 'alreadi', 'give', 'huge', 'time', 'advantag', 'hard', 'also', 'second', 'logo', 'timefram', 'right', 'okay', 'need', 'speak', 'produc', 'first', 'get', 'angri', 'spend', 'money', 'without', 'speak', 'first', 'like', 'bought', 'taxidermi', 'cat', 'ebay', 'entir', 'prop', 'budget', 'also', 'mind', 'tell', 'crew', 'pay', 'like', 'never', 'realli', 'like', 'expect', 'worth', 'money', 'like', 'make', 'text', 'middl', 'bigger', 'leav', 'blue', 'box', 'around', 'word', 'appli', 'hard', 'design', 'understand', 'make', 'text', 'bigger', 'leav', 'box', 'need', 'instal', 'next', 'week', 'time', 'argu', 'make', 'way', 'ask', 'look', 'horribl', 'tell', 'would', 'look', 'differ', 'well', 'pay', 'look', 'complet', 'wrong', 'actual', 'lost', 'time', 'card', 'idea', 'much', 'owe', 'pick', 'random', 'number', 'gave', 'like', 'cent', 'client', 'like', 'want', 'keep', 'use', 'old', 'tablebas', 'layout', 'websit', 'align', 'photo', 'text', 'oh', 'sinc', 'go', 'use', 'go', 'pay', 'sorri', 'receiv', 'invoic', 'send', 'tri', 'get', 'paid', 'next', 'two', 'week', 'ye', 'well', 'never', 'receiv', 'would', 'paid', 'need', 'websit', 'best', 'market', 'tool', 'enter', 'busiest', 'time', 'year', 'unprofession', 'forget', 'find', 'someon', 'els', 'deal', 'websit', 'assum', 'design', 'text', 'imag', 'etc', 'sinc', 'hire', 'sign', 'contract', 'deliv', 'right']\n['abl', 'help', 'design', 'work', 'next', 'coupl', 'month', 'oh', 'well', 'pay', 'per', 'piec', 'ok', 'free', 'well', 'unprofession', 'leav', 'us', 'hang', 'like', 'concert', 'cancel', 'manag', 'find', 'anoth', 'artist', 'day', 'make', 'us', 'flyer', 'everyth', 'els', 'cancel', 'besid', 'spend', 'anyth', 'job', 'except', 'time', 'well', 'go', 'pay', 'next', 'one', 'need', 'less', 'week', 'half', 'price', 'visit', 'websit', 'free', 'make', 'websit', 'also', 'free', 'alreadi', 'pay', 'big', 'isp', 'name', 'internet', 'haha', 'gotten', 'sign', 'contract', 'oh', 'well', 'still', 'pay', 'oh', 'come', 'pretti', 'wellknown', 'busi', 'instead', 'pay', 'full', 'amount', 'give', 'exposur', 'peopl', 'alway', 'look', 'exposur', 'word', 'document', 'fuck', 'sue', 'prick', 'disgust', 'send', 'past', 'due', 'mark', 'invoic', 'via', 'fax', 'machin', 'well', 'appreci', 'mark', 'invoic', 'past', 'due', 'bold', 'letter', 'make', 'look', 'like', 'pay', 'bill', 'angri', 'tell', 'care', 'past', 'due', 'insult', 'us', 'make', 'appear', 'pay', 'bill', 'time', 'besid', 'never', 'got', 'invoic', 'today', 'well', 'threw', 'without', 'open', 'time', 'great', 'make', 'littl', 'longer', 'good', 'go', 'wait', 'must', 'new', 'pay', 'us', 'use', 'track', 'profession', 'know', 'work', 'afford', 'free', 'knew', 'colleg', 'histori', 'class', 'ye', 'product', 'hous', 'class', 'sent', 'last', 'month', 'expect', 'month', 'realli', 'dude', 'relax', 'pack', 'stuff', 'leav', 'tomorrow', 'head', 'crossfit', 'get', 'upset', 'answer', 'see', 'kind', 'busi', 'realli', 'run', 'guarante', 'shitload', 'empti', 'word', 'golden']\n['much', 'websit', 'car', 'need', 'web', 'site', 'brought', 'oh', 'wow', 'way', 'beyond', 'budget', 'ridicul', 'much', 'would', 'say', 'half', 'teach', 'us', 'build', 'half', 'hi', 'saw', 'quot', 'bit', 'research', 'know', 'peopl', 'charg', 'per', 'hour', 'design', 'work', 'think', 'give', 'rate', 'tell', 'busi', 'card', 'brochur', 'signag', 'charg', 'per', 'hour', 'refer', 'busi', 'contact', 'know', 'lot', 'peopl', 'ok', 'work', 'rate', 'want', 'pay', 'talk', 'futur', 'project', 'togeth', 'lot', 'want', 'besid', 'could', 'find', 'someon', 'will', 'cheaper', 'abl', 'cheaper', 'well', 'offer', 'pay', 'want', 'see', 'work', 'project', 'take', 'hour', 'complet', 'pay', 'deposit', 'get', 'start', 'script', 'clearli', 'dedic', 'project', 'websit', 'say', 'make', 'excus', 'clearli', 'full', 'listen', 'send', 'script', 'today', 'excus', 'hey', 'sorri', 'abl', 'pay', 'deposit', 'ill', 'last', 'day', 'paid', 'compani', 'money', 'suppos', 'design', 'custom', 'websit', 'yeah', 'stuck', 'us', 'templat', 'call', 'jerk', 'let', 'know', 'give', 'money', 'serious', 'go', 'demo', 'site', 'look', 'tell', 'templat', 'forgot', 'remov', 'tri', 'make', 'use', 'pay', 'thousand', 'dollar', 'crap', 'think', 'big', 'cash', 'job', 'price', 'need', 'visual', 'give', 'idea', 'finish', 'jobm', 'ok', 'problem', 'sinc', 'financ', 'tight', 'nomin', 'fee', 'pay', 'get', 'hour', 'later', 'send', 'workm', 'visual', 'ok', 'client', 'like', 'itthey', 'love', 'got', 'jobm', 'owe', 'thenwhi', 'pay', 'plenti', 'money', 'hate', 'grammar', 'wrong', 'terribl', 'pay', 'hey', 'got', 'word', 'use', 'imag', 'poster', 'copyright', 'anoth', 'imag', 'get', 'tri', 'wait', 'pay']\n['ye', 'nice', 'mean', 'lock', 'right', 'well', 'need', 'friend', 'look', 'go', 'pay', 'sure', 'like', 'might', 'thing', 'need', 'chang', 'might', 'need', 'chang', 'entir', 'design', 'function', 'go', 'pay', 'someth', 'want', 'design', 'creat', 'skate', 'theme', 'pleas', 'pay', 'asap', 'via', 'paypal', 'see', 'put', 'paypal', 'pleas', 'asap', 'spent', 'long', 'time', 'get', 'other', 'involv', 'enough', 'ask', 'excus', 'late', 'payment', 'resourc', 'send', 'cloth', 'get', 'lawyer', 'involv', 'eh', 'coupl', 'thing', 'good', 'enough', 'best', 'could', 'sure', 'tri', 'hardest', 'keyword', 'want', 'content', 'focu', 'okay', 'fine', 'use', 'one', 'think', 'best', 'pay', 'follow', 'instruct', 'sent', 'plenti', 'keyword', 'use', 'four', 'bother', 'offer', 'revis', 'find', 'someon', 'els', 'hey', 'need', 'digit', 'artist', 'color', 'sketch', 'one', 'guy', 'made', 'eight', 'us', 'superhero', 'would', 'abl', 'oh', 'okay', 'need', 'next', 'week', 'sound', 'problem', 'invoic', 'well', 'actual', 'pay', 'see', 'thing', 'knew', 'money', 'got', 'job', 'might', 'mention', 'big', 'believ', 'law', 'attract', 'anyway', 'told', 'univers', 'need', 'manifest', 'money', 'pay', 'turn', 'univers', 'listen', 'worri', 'go', 'work', 'realli', 'hard', 'manifest', 'get', 'back', 'pay', 'soon', 'holiday', 'tell', 'excit', 'husband', 'go', 'resort', 'three', 'week', 'univers', 'decid', 'need', 'break', 'everyth', 'look', 'fine', 'would', 'like', 'work', 'one', 'condit', 'could', 'pleas', 'remov', 'line', 'correct', 'ye', 'feel', 'comfort', 'limit', 'amount', 'correct', 'like', 'profession', 'know', 'exactli', 'mani', 'hour', 'work', 'ye']\n['invoic', 'say', 'updat', 'could', 'give', 'breakdown', 'arriv', 'price', 'could', 'would', 'great', 'hey', 'take', 'ehow', 'class', 'charg', 'thing', 'need', 'know', 'would', 'happen', 'spare', 'copi', 'could', 'instead', 'fix', 'fee', 'gave', 'percentag', 'profit', 'might', 'get', 'money', 'motiv', 'great', 'job', 'yeah', 'understand', 'start', 'code', 'difficult', 'start', 'pay', 'knew', 'go', 'inflex', 'work', 'hate', 'peopl', 'alway', 'follow', 'contract', 'start', 'code', 'today', 'pleas', 'print', 'burger', 'menu', 'kid', 'menu', 'deliveri', 'tomorrow', 'spoke', 'boss', 'initi', 'run', 'charg', 'let', 'know', 'valu', 'effort', 'cost', 'amount', 'futur', 'run', 'think', 'alreadi', 'commit', 'print', 'free', 'understand', 'ship', 'fee', 'invoic', 'last', 'time', 'work', 'ship', 'fee', 'ye', 'invoic', 'ship', 'fee', 'said', 'anyth', 'would', 'free', 'ship', 'understand', 'show', 'one', 'english', 'professor', 'make', 'oh', 'understand', 'want', 'show', 'make', 'free', 'everyth', 'look', 'realli', 'good', 'go', 'ahead', 'move', 'site', 'server', 'hey', 'man', 'site', 'server', 'yet', 'review', 'site', 'develop', 'decid', 'qualiti', 'expect', 'per', 'contract', 'either', 'move', 'site', 'server', 'refund', 'initi', 'deposit']\n['sure', 'experienc', 'enough', 'handl', 'great', 'client', 'want', 'pay', 'around', 'buck', 'translat', 'want', 'done', 'five', 'pm', 'easi', 'want', 'redeliv', 'illustr', 'new', 'version', 'proport', 'differ', 'probabl', 'chang', 'composit', 'page', 'need', 'redo', 'illustr', 'actual', 'like', 'first', 'book', 'make', 'beauti', 'detail', 'like', 'real', 'illustr', 'would', 'ye', 'whole', 'project', 'depend', 'know', 'like', 'like', 'peopl', 'like', 'okay', 'way', 'see', 'look', 'like', 'finish', 'form', 'entitl', 'twice', 'much', 'pay', 'great', 'pay', 'us', 'dollar', 'pay', 'talk', 'price', 'differ', 'money', 'exactli', 'know', 'yet', 'red', 'blue', 'yellow', 'make', 'whole', 'site', 'say', 'like', 'told', 'discuss', 'much', 'payment', 'site', 'still', 'caus', 'harm', 'site', 'busi', 'relationship', 'someon', 'caus', 'harm', 'busi', 'go', 'get', 'site', 'back']\n['hello', 'refer', 'would', 'like', 'rebrand', 'product', 'us', 'give', 'us', 'estim', 'much', 'would', 'cost', 'okay', 'deal', 'redesign', 'logo', 'hello', 'someth', 'like', 'logo', 'alreadi', 'agreedupon', 'price', 'cours', 'want', 'custom', 'design', 'signag', 'campu', 'build', 'exterior', 'interior', 'ah', 'realli', 'peopl', 'go', 'mom', 'ask', 'idiot', 'chase', 'us', 'see', 'somehow', 'read', 'email', 'feel', 'right', 'gave', 'direct', 'first', 'email', 'said', 'want', 'talk', 'certain', 'issu', 'abl', 'figur', 'thought', 'would', 'pay', 'finish', 'product', 'need', 'asap', 'know', 'said', 'work', 'weekend', 'realli', 'urgent', 'said', 'work', 'weekend', 'want', 'pay', 'stuff', 'free', 'time', 'would', 'hire', 'anoth', 'design', 'could', 'get', 'free', 'meant', 'get', 'work', 'addit', 'work', 'alreadi', 'pay', 'spring', 'someth', 'like', 'start', 'project', 'discuss', 'month', 'ago', 'well', 'critic', 'need', 'tomorrow', 'morn', 'want', 'paid', 'seriou', 'take', 'day', 'charg', 'day', 'ye', 'want', 'keep', 'work', 'us', 'expect', 'work', 'deadlin', 'accept', 'payment', 'term']\n['previou', 'flash', 'develop', 'live', 'state', 'contact', 'got', 'email', 'say', 'admit', 'hospit', 'got', 'swf', 'done', 'us', 'got', 'money', 'noth', 'left', 'week', 'away', 'oh', 'part', 'one', 'eight', 'similar', 'modul', 'might', 'dead', 'fix', 'right', 'ok', 'euro', 'oh', 'know', 'tri', 'bring', 'price', 'look', 'bigger', 'pictur', 'fax', 'copi', 'chequ', 'task', 'great', 'go', 'great', 'requir', 'chang', 'great', 'work', 'ah', 'also', 'need', 'awesom', 'great', 'exactli', 'need', 'uh', 'surpris', 'invoic', 'seven', 'hour', 'agre', 'upon', 'initi', 'estim', 'yeah', 'pay', 'much', 'mayb', 'talk', 'rate', 'make', 'difficult', 'tell', 'pay', 'want', 'bill', 'call', 'quit', 'deal', 'impass', 'need', 'work', 'send', 'high', 'rate', 'know', 'pay', 'ask', 'outrag', 'pleas', 'send', 'work', 'hello', 'think', 'would', 'save', 'us', 'lot', 'time', 'effort', 'got', 'final', 'file', 'trust', 'said', 'check', 'full', 'way', 'see', 'sort', 'issu', 'want', 'project', 'get', 'hung']\n['brows', 'onlin', 'portfolio', 'hate', 'everyth', 'done', 'build', 'websit', 'well', 'expect', 'discount', 'sinc', 'hard', 'sale', 'would', 'like', 'make', 'brochur', 'insert', 'dvd', 'know', 'like', 'professionallook', 'think', 'look', 'good', 'thank', 'effort', 'like', 'make', 'chang', 'like', 'font', 'plain', 'arial', 'remov', 'colour', 'black', 'white', 'remov', 'pictur', 'think', 'distract', 'remov', 'pleas', 'like', 'copi', 'show', 'ceo', 'approv', 'much', 'deliber', 'decid', 'longer', 'requir', 'brochur', 'like', 'add', 'disappoint', 'design', 'servic', 'like', 'refund', 'deposit', 'found', 'brochur', 'bore', 'unprofession', 'mean', 'even', 'colour', 'never', 'come', 'across', 'photograph', 'charg', 'fee', 'gener', 'want', 'use', 'photo', 'magazin', 'portfolio', 'etc', 'submit', 'photo', 'public', 'profession', 'want', 'make', 'new', 'websit', 'vistaprint', 'take', 'long', 'meet', 'week', 'discuss', 'think', 'anyth', 'yet', 'though', 'vistaprint', 'pay', 'month', 'put', 'websit', 'googl', 'yahoo', 'yellow', 'page', 'chrome', 'firefox', 'gmail', 'take', 'one', 'hour', 'make', 'look', 'plu', 'pay', 'wordpress', 'site', 'even', 'save', 'pleas', 'want', 'reduct', 'price', 'send', 'us', 'highresolut', 'file', 'call', 'quit', 'understand', 'english', 'good', 'pleas', 'explain', 'oh', 'okay', 'much', 'discount', 'highresolut', 'file', 'pay', 'chequ', 'okay', 'oh', 'figur', 'bank', 'could', 'handl', 'listen', 'lot', 'competit', 'lot', 'design', 'would', 'jump', 'chanc', 'make', 'kind', 'project', 'find', 'anyon', 'less']\n['yeah', 'sorri', 'man', 'actual', 'take', 'site', 'temporari', 'knew', 'last', 'long', 'anyway', 'go', 'start', 'new', 'busi', 'next', 'month', 'would', 'want', 'make', 'site', 'prepar', 'pay', 'quot', 'sinc', 'amount', 'ask', 'ridicul', 'explain', 'think', 'servic', 'worth', 'much', 'explain', 'price', 'custom', 'either', 'buy', 'oh', 'forgot', 'tell', 'ask', 'anoth', 'freelanc', 'thing', 'split', 'bill', 'guy', 'know', 'twice', 'age', 'better', 'job', 'gave', 'email', 'told', 'oh', 'yeah', 'forgot', 'well', 'use', 'program', 'cheat', 'nice', 'tri', 'go', 'ahead', 'work', 'outlin', 'timelin', 'estim', 'work', 'well', 'work', 'discuss', 'price', 'work', 'get', 'back', 'review', 'want', 'talk', 'price', 'ye', 'work', 'well', 'paid', 'like', 'done', 'want', 'see', 'finish', 'work', 'discuss', 'payment', 'hey', 'got', 'fun', 'project', 'need', 'take', 'weekend', 'free', 'work', 'get', 'paid']\n['websit', 'guy', 'made', 'turn', 'bit', 'rubbish', 'could', 'take', 'look', 'tell', 'improv', 'need', 'add', 'chang', 'alreadi', 'alreadi', 'paid', 'new', 'websit', 'want', 'pay', 'like', 'said', 'alreadi', 'paid', 'see', 'spend', 'money', 'move', 'thing', 'around', 'bit', 'pleas', 'sign', 'new', 'contract', 'sent', 'ident', 'last', 'contract', 'sign', 'chang', 'show', 'new', 'compani', 'name', 'need', 'start', 'work', 'afternoon', 'alreadi', 'miss', 'critic', 'deadlin', 'op', 'sorri', 'sent', 'contract', 'anoth', 'develop', 'ignor', 'work', 'last', 'contract', 'sign', 'nice', 'tri', 'pay', 'transfer', 'know', 'budget', 'tight', 'lost', 'money', 'produc', 'event', 'enough', 'money', 'pay', 'fee', 'take', 'fee', 'compens', 'spearhead', 'project', 'us', 'lose', 'money', 'wish', 'well']\n['come', 'pay', 'much', 'lot', 'expens', 'thought', 'would', 'thought', 'start', 'would', 'ask', 'sever', 'reduc', 'suppos', 'know', 'would', 'stick', 'ye', 'like', 'logo', 'sure', 'think', 'compar', 'could', 'send', 'us', 'ep', 'hd', 'format', 'help', 'us', 'think', 'know', 'easi', 'set', 'use', 'wordpress', 'coupl', 'year', 'ago', 'need', 'add', 'coupl', 'plugin', 'copi', 'content', 'take', 'effort', 'skill', 'frankli', 'think', 'free', 'least', 'come', 'fine', 'look', 'whatev', 'pay', 'ridicul', 'rate', 'need', 'need', 'monday', 'want', 'know', 'peopl', 'get', 'charg', 'ye', 'believ', 'ahol', 'charg', 'much', 'ye', 'right', 'front', 'last', 'month', 'well', 'someon', 'fu', 'sit', 'stare', 'fu', 'bill', 'ye', 'sure', 'fu', 'idiot', 'say', 'right', 'chase', 'bank', 'card', 'member', 'servic', 'fan', 'one', 'pink', 'okay', 'pink', 'pretti', 'lame', 'oh', 'anoth', 'work', 'great', 'need', 'talk', 'quot', 'well', 'know', 'least', 'one', 'design', 'will', 'work', 'less', 'would', 'okay', 'paid', 'month', 'great', 'kickstart', 'finish', 'money', 'blow', 'also', 'drive', 'split', 'money', 'pay', 'video', 'editor', 'someon', 'real', 'skill']\n['happi', 'work', 'turn', 'anoth', 'quot', 'work', 'want', 'email', 'unaccept', 'need', 'revisit', 'output', 'exactli', 'great', 'go', 'ahead', 'write', 'contract', 'go', 'need', 'revis', 'done', 'tonight', 'els', 'find', 'someon', 'els', 'work', 'paid', 'need', 'paid', 'five', 'last', 'time', 'charg', 'ten', 'go', 'charg', 'let', 'know', 'ask', 'anoth', 'payment', 'alreadi', 'sent', 'check', 'sign', 'contract', 'month', 'ago', 'told', 'advanc', 'partial', 'amount', 'invoic', 'sent', 'wrong', 'includ', 'payment', 'made', 'wrote', 'chequ', 'morn', 'exactli', 'invoic', 'hmm', 'look', 'alright', 'could', 'tri', 'logo', 'bit', 'smaller', 'center', 'yeah', 'look', 'good', 'thought', 'chang', 'back', 'could', 'tri', 'sidebar', 'darker', 'purpl', 'yeah', 'like', 'content', 'box', 'look', 'bit', 'bleak', 'could', 'make', 'stand', 'moreand', 'goe', 'seven', 'round', 'edit', 'seven', 'time', 'manag', 'talk', 'someth', 'get', 'closer', 'closer', 'origin', 'oh', 'sorri', 'use', 'work', 'way', 'way', 'talk', 'ad', 'good', 'point', 'send', 'yeah', 'good', 'enough', 'guess', 'decid', 'postpon', 'launch', 'summer', 'save', 'somewher', 'pick', 'august', 'someth', 'trust', 'invoic', 'us', 'sinc', 'deliv', 'anyth', 'yet', 'project', 'run', 'late', 'got', 'china', 'alreadi', 'thursday', 'noon', 'exact', 'make', 'late', 'greedi', 'cheat', 'want', 'deposit', 'back', 'china', 'noth']\n['oh', 'get', 'next', 'week', 'work', 'free', 'want', 'copi', 'booklet', 'free', 'hous', 'love', 'hit', 'spot', 'chang', 'password', 'hate', 'new', 'site', 'design', 'want', 'stay', 'one', 'rather', 'continu', 'work', 'help', 'tri', 'move', 'old', 'content', 'new', 'site', 'everyth', 'broken', 'chang', 'mind', 'much', 'move', 'everyth', 'well', 'obvious', 'prefer', 'pay', 'want', 'pay', 'credit', 'card', 'excel', 'amex']\n['like', 'much', 'owe', 'design', 'tell', 'design', 'card', 'design', 'pay', 'design', 'fee', 'understand', 'thing', 'realli', 'slow', 'around', 'shop', 'late', 'three', 'four', 'piec', 'left', 'store', 'see', 'point', 'place', 'anoth', 'order', 'ok', 'number', 'understand', 'long', 'china', 'canada', 'oh', 'want', 'order', 'anyth', 'call', 'price', 'ask', 'site', 'told', 'three', 'time', 'chequ', 'mail', 'think', 'deliv', 'qualiti', 'work', 'refer', 'video', 'sent', 'would', 'make', 'differ', 'quit', 'lot', 'money', 'tell', 'anyon', 'slept', 'two', 'model', 'instead', 'payment', 'organ', 'could', 'pleas', 'send', 'bill', 'next', 'view', 'day', 'hello', 'pleas', 'note', 'current', 'vacat', 'return', 'januari', 'januari', 'longer', 'work', 'offic', 'automat', 'respons', 'email', 'pass', 'forward', 'merri', 'christma']\n['look', 'like', 'contrast', 'set', 'whack', 'monitor', 'exactli', 'anyway', 'revert', 'chang', 'made', 'expect', 'grati', 'natur', 'recent', 'free', 'bad', 'think', 'make', 'prefer', 'vendor', 'mean', 'pay', 'time', 'want', 'pay', 'extra', 'add', 'snowi', 'background', 'spend', 'coupl', 'hour', 'figur', 'free', 'need', 'time', 'pay', 'get', 'check', 'issu', 'quickli', 'corpor', 'credit', 'card', 'use', 'want', 'idea', 'long', 'compani', 'take', 'reimburs', 'expens', 'trust', 'websit', 'earth', 'know', 'businessman', 'need', 'know', 'deal', 'use', 'card', 'detail', 'think', 'fair', 'see', 'taken', 'much', 'time', 'everi', 'second', 'spend', 'work', 'core', 'busi', 'earn', 'money', 'must', 'difficult', 'design', 'like', 'ask', 'right', 'design', 'logo', 'would', 'haha', 'funni', 'serious', 'love', 'see', 'work', 'go', 'look', 'tell', 'draw', 'want', 'logo', 'profession', 'look', 'paid', 'like', 'design', 'blank', 'box', 'top', 'empti', 'oh', 'know', 'feel', 'free', 'design', 'one', 'us', 'charg']\n['yeah', 'go', 'go', 'ahead', 'use', 'suppli', 'old', 'design', 'releas', 'vector', 'file', 'pay', 'go', 'pay']\n[]\n[]\n[]\n[]\n[]\n[]\n[]\n[]\n[]\n[]\n[]\n[]\n[]\n[]\n[]\n[]\n[]\n[]\n[]\n[]\n[]\n[]\n[]\n[]\n[]\n[]\n"
    }
   ],
   "source": [
    "df_clients_og = pd.DataFrame.from_dict(html_cont_dict, orient = 'index').fillna('')\n",
    "df_clients_og = df_clients_og.T\n",
    "\n",
    "def stem(a):\n",
    "    p = PorterStemmer()\n",
    "    a = [p.stem(word) for word in a]\n",
    "    return a\n",
    "\n",
    "# df_clients_og = pd.DataFrame.from_dict(html_cont_dict, orient = 'index').fillna('')\n",
    "# df_clients_og = df_clients_og.T\n",
    "\n",
    "for col in df_clients_og:\n",
    "#     print(col)\n",
    "        \n",
    "    for i,list_ in enumerate(df_clients_og[col]):\n",
    "        sub_list=[]\n",
    "\n",
    "        for item in list_:\n",
    "            if item.startswith('Client:'):\n",
    "                sub_list.append(item)\n",
    "\n",
    "        df_clients_og[col][i] = sub_list\n",
    "#         print(sub_list)\n",
    "        \n",
    "punc_list = [x for x in string.punctuation]\n",
    "\n",
    "for col in df_clients_og:\n",
    "#     print(col)\n",
    "        \n",
    "    for i,list_ in enumerate(df_clients_og[col]):\n",
    "        sub_list = [x.replace('\\xa0', ' ') for x in df_clients_og[col][i]]\n",
    "        sub_list = [x.replace('\\n', ' ') for x in sub_list]\n",
    "        sub_list = [x.replace('Client: ', '') for x in sub_list]\n",
    "        for punc in punc_list:\n",
    "            sub_list = [x.replace(punc, '') for x in sub_list]\n",
    "        sub_list = [x.replace('—', '') for x in sub_list]\n",
    "        sub_list = [x.replace('   ', ' ') for x in sub_list]\n",
    "        sub_list = [x.replace('  ', ' ') for x in sub_list]\n",
    "        sub_list = [x.rstrip() for x in sub_list]\n",
    "        \n",
    "        df_clients_og[col][i] = sub_list\n",
    "        \n",
    "for col in df_clients_og:\n",
    "#     print(col)\n",
    "        \n",
    "    for i,list_ in enumerate(df_clients_og[col]):\n",
    "        sub_list = [x.split(' ') for x in list_]\n",
    "        \n",
    "        df_clients_og[col][i] = sub_list\n",
    "        df_clients_og[col][i] = [word.lower() for words in df_clients_og[col][i] for word in words if len(word) != 1]\n",
    "        df_clients_og[col][i] = [re.sub(r'^(.)\\1+', r'\\1', word)  for word in df_clients_og[col][i]]\n",
    "\n",
    "        df_clients_og[col][i] = [word.replace(\"’\", \"'\") for word in df_clients_og[col][i]]\n",
    "#         df_clients_og[col][i] = [word.replace(\"ing\", \"\") for word in df_clients_og[col][i]]\n",
    "#         df_clients_og[col][i] = [word.replace(\"ed\", \"\") for word in df_clients_og[col][i]]\n",
    "        df_clients_og[col][i] = [word.rstrip(\"'\") for word in df_clients_og[col][i]]\n",
    "        \n",
    "        \n",
    "        \n",
    "        df_clients_og[col][i] = [word for word in df_clients_og[col][i] if word not in stopwords]\n",
    "        df_clients_og[col][i] = [word for word in df_clients_og[col][i] if word.isalpha() == True]\n",
    "        df_clients_og[col][i] = [word for word in df_clients_og[col][i] if len(word) != 1]\n",
    "        df_clients_og[col][i] = stem(df_clients_og[col][i])\n",
    "        \n",
    "        print(df_clients_og[col][i])\n",
    "        \n",
    "        df_clients_og[col][i] = dict(Counter(df_clients_og[col][i]))"
   ]
  },
  {
   "cell_type": "code",
   "execution_count": 18,
   "metadata": {},
   "outputs": [],
   "source": [
    "all_keys = []\n",
    "\n",
    "for col in df_clients_og:\n",
    "#     print(col)\n",
    "        \n",
    "    for i,dic_ in enumerate(df_clients_og[col]):\n",
    "        for word in list(dic_.keys()):\n",
    "            all_keys.append(word)\n",
    "\n",
    "all_keys = list(set(all_keys))\n",
    "\n",
    "# print(len(all_keys))\n",
    "    \n",
    "all_keys = sorted(all_keys)\n",
    "# print(all_keys)\n",
    "        "
   ]
  },
  {
   "cell_type": "code",
   "execution_count": 19,
   "metadata": {},
   "outputs": [
    {
     "output_type": "execute_result",
     "data": {
      "text/plain": "       category                                               case\n0        Dunces  {'start': 1, 'new': 1, 'project': 1, 'someth':...\n1      Ingrates  {'pixel': 1, 'perfect': 1, 'absolut': 2, 'garb...\n2       Racists  {'poster': 1, 'beauti': 1, 'im': 1, 'afraid': ...\n3    Homophobes  {'loud': 1, 'proud': 1, 'gay': 1, 'understand'...\n4       Cryptic  {'like': 10, 'want': 8, 'white': 2, 'backgroun...\n..          ...                                                ...\n309      Dunces  {'name': 1, 'sort': 1, 'stupid': 1, 'introduc'...\n310      Dunces  {'finish': 3, 'product': 2, 'seem': 1, 'exactl...\n311      Dunces  {'decid': 2, 'want': 1, 'call': 1, 'new': 1, '...\n312      Dunces  {'outrag': 1, 'last': 1, 'crew': 1, 'could': 1...\n313      Dunces                                        {'work': 1}\n\n[314 rows x 2 columns]",
      "text/html": "<div>\n<style scoped>\n    .dataframe tbody tr th:only-of-type {\n        vertical-align: middle;\n    }\n\n    .dataframe tbody tr th {\n        vertical-align: top;\n    }\n\n    .dataframe thead th {\n        text-align: right;\n    }\n</style>\n<table border=\"1\" class=\"dataframe\">\n  <thead>\n    <tr style=\"text-align: right;\">\n      <th></th>\n      <th>category</th>\n      <th>case</th>\n    </tr>\n  </thead>\n  <tbody>\n    <tr>\n      <th>0</th>\n      <td>Dunces</td>\n      <td>{'start': 1, 'new': 1, 'project': 1, 'someth':...</td>\n    </tr>\n    <tr>\n      <th>1</th>\n      <td>Ingrates</td>\n      <td>{'pixel': 1, 'perfect': 1, 'absolut': 2, 'garb...</td>\n    </tr>\n    <tr>\n      <th>2</th>\n      <td>Racists</td>\n      <td>{'poster': 1, 'beauti': 1, 'im': 1, 'afraid': ...</td>\n    </tr>\n    <tr>\n      <th>3</th>\n      <td>Homophobes</td>\n      <td>{'loud': 1, 'proud': 1, 'gay': 1, 'understand'...</td>\n    </tr>\n    <tr>\n      <th>4</th>\n      <td>Cryptic</td>\n      <td>{'like': 10, 'want': 8, 'white': 2, 'backgroun...</td>\n    </tr>\n    <tr>\n      <th>...</th>\n      <td>...</td>\n      <td>...</td>\n    </tr>\n    <tr>\n      <th>309</th>\n      <td>Dunces</td>\n      <td>{'name': 1, 'sort': 1, 'stupid': 1, 'introduc'...</td>\n    </tr>\n    <tr>\n      <th>310</th>\n      <td>Dunces</td>\n      <td>{'finish': 3, 'product': 2, 'seem': 1, 'exactl...</td>\n    </tr>\n    <tr>\n      <th>311</th>\n      <td>Dunces</td>\n      <td>{'decid': 2, 'want': 1, 'call': 1, 'new': 1, '...</td>\n    </tr>\n    <tr>\n      <th>312</th>\n      <td>Dunces</td>\n      <td>{'outrag': 1, 'last': 1, 'crew': 1, 'could': 1...</td>\n    </tr>\n    <tr>\n      <th>313</th>\n      <td>Dunces</td>\n      <td>{'work': 1}</td>\n    </tr>\n  </tbody>\n</table>\n<p>314 rows × 2 columns</p>\n</div>"
     },
     "metadata": {},
     "execution_count": 19
    }
   ],
   "source": [
    "df_final = df_clients_og.T\n",
    "\n",
    "df_final.columns = [str(col) for col in df_final.columns]\n",
    "\n",
    "df_final.reset_index(inplace = True)\n",
    "df_final.rename(columns = {'index':'category'}, inplace = True)\n",
    "# df_final.head()\n",
    "\n",
    "df_cases = pd.DataFrame(columns = ['category', 'case'])\n",
    "\n",
    "# df_final[['category', '0']].rename(columns = {'0':'case'})\n",
    "\n",
    "for col in df_final:\n",
    "    if col != 'category':\n",
    "        df_cases = df_cases.append(df_final[['category', col]].rename(columns = {col:'case'}))\n",
    "\n",
    "df_cases.reset_index(drop = True, inplace = True)\n",
    "\n",
    "for i, row in enumerate(df_cases['case']):\n",
    "    if row == {}:\n",
    "        df_cases.drop(index = i, inplace = True)\n",
    "        \n",
    "df_cases.reset_index(drop = True, inplace = True)\n",
    "df_cases\n"
   ]
  },
  {
   "cell_type": "code",
   "execution_count": 21,
   "metadata": {
    "scrolled": true
   },
   "outputs": [
    {
     "output_type": "execute_result",
     "data": {
      "text/plain": "   start  new  project  someth  big  talk  youtub  specif  market  money  ...  \\\n0    1.0  1.0      1.0     2.0  4.0   1.0     1.0     1.0     1.0    2.0  ...   \n1    1.0  2.0      NaN     NaN  NaN   NaN     NaN     NaN     NaN    NaN  ...   \n2    NaN  NaN      NaN     1.0  NaN   NaN     NaN     NaN     NaN    NaN  ...   \n3    NaN  NaN      NaN     NaN  NaN   NaN     NaN     NaN     NaN    3.0  ...   \n4    1.0  NaN      NaN     1.0  NaN   1.0     NaN     1.0     NaN    NaN  ...   \n\n   centr  getgo  georg  webinar  foot  advic  arrow  huff  woah  phrase  \n0    NaN    NaN    NaN      NaN   NaN    NaN    NaN   NaN   NaN     NaN  \n1    NaN    NaN    NaN      NaN   NaN    NaN    NaN   NaN   NaN     NaN  \n2    NaN    NaN    NaN      NaN   NaN    NaN    NaN   NaN   NaN     NaN  \n3    NaN    NaN    NaN      NaN   NaN    NaN    NaN   NaN   NaN     NaN  \n4    NaN    NaN    NaN      NaN   NaN    NaN    NaN   NaN   NaN     NaN  \n\n[5 rows x 4061 columns]",
      "text/html": "<div>\n<style scoped>\n    .dataframe tbody tr th:only-of-type {\n        vertical-align: middle;\n    }\n\n    .dataframe tbody tr th {\n        vertical-align: top;\n    }\n\n    .dataframe thead th {\n        text-align: right;\n    }\n</style>\n<table border=\"1\" class=\"dataframe\">\n  <thead>\n    <tr style=\"text-align: right;\">\n      <th></th>\n      <th>start</th>\n      <th>new</th>\n      <th>project</th>\n      <th>someth</th>\n      <th>big</th>\n      <th>talk</th>\n      <th>youtub</th>\n      <th>specif</th>\n      <th>market</th>\n      <th>money</th>\n      <th>...</th>\n      <th>centr</th>\n      <th>getgo</th>\n      <th>georg</th>\n      <th>webinar</th>\n      <th>foot</th>\n      <th>advic</th>\n      <th>arrow</th>\n      <th>huff</th>\n      <th>woah</th>\n      <th>phrase</th>\n    </tr>\n  </thead>\n  <tbody>\n    <tr>\n      <th>0</th>\n      <td>1.0</td>\n      <td>1.0</td>\n      <td>1.0</td>\n      <td>2.0</td>\n      <td>4.0</td>\n      <td>1.0</td>\n      <td>1.0</td>\n      <td>1.0</td>\n      <td>1.0</td>\n      <td>2.0</td>\n      <td>...</td>\n      <td>NaN</td>\n      <td>NaN</td>\n      <td>NaN</td>\n      <td>NaN</td>\n      <td>NaN</td>\n      <td>NaN</td>\n      <td>NaN</td>\n      <td>NaN</td>\n      <td>NaN</td>\n      <td>NaN</td>\n    </tr>\n    <tr>\n      <th>1</th>\n      <td>1.0</td>\n      <td>2.0</td>\n      <td>NaN</td>\n      <td>NaN</td>\n      <td>NaN</td>\n      <td>NaN</td>\n      <td>NaN</td>\n      <td>NaN</td>\n      <td>NaN</td>\n      <td>NaN</td>\n      <td>...</td>\n      <td>NaN</td>\n      <td>NaN</td>\n      <td>NaN</td>\n      <td>NaN</td>\n      <td>NaN</td>\n      <td>NaN</td>\n      <td>NaN</td>\n      <td>NaN</td>\n      <td>NaN</td>\n      <td>NaN</td>\n    </tr>\n    <tr>\n      <th>2</th>\n      <td>NaN</td>\n      <td>NaN</td>\n      <td>NaN</td>\n      <td>1.0</td>\n      <td>NaN</td>\n      <td>NaN</td>\n      <td>NaN</td>\n      <td>NaN</td>\n      <td>NaN</td>\n      <td>NaN</td>\n      <td>...</td>\n      <td>NaN</td>\n      <td>NaN</td>\n      <td>NaN</td>\n      <td>NaN</td>\n      <td>NaN</td>\n      <td>NaN</td>\n      <td>NaN</td>\n      <td>NaN</td>\n      <td>NaN</td>\n      <td>NaN</td>\n    </tr>\n    <tr>\n      <th>3</th>\n      <td>NaN</td>\n      <td>NaN</td>\n      <td>NaN</td>\n      <td>NaN</td>\n      <td>NaN</td>\n      <td>NaN</td>\n      <td>NaN</td>\n      <td>NaN</td>\n      <td>NaN</td>\n      <td>3.0</td>\n      <td>...</td>\n      <td>NaN</td>\n      <td>NaN</td>\n      <td>NaN</td>\n      <td>NaN</td>\n      <td>NaN</td>\n      <td>NaN</td>\n      <td>NaN</td>\n      <td>NaN</td>\n      <td>NaN</td>\n      <td>NaN</td>\n    </tr>\n    <tr>\n      <th>4</th>\n      <td>1.0</td>\n      <td>NaN</td>\n      <td>NaN</td>\n      <td>1.0</td>\n      <td>NaN</td>\n      <td>1.0</td>\n      <td>NaN</td>\n      <td>1.0</td>\n      <td>NaN</td>\n      <td>NaN</td>\n      <td>...</td>\n      <td>NaN</td>\n      <td>NaN</td>\n      <td>NaN</td>\n      <td>NaN</td>\n      <td>NaN</td>\n      <td>NaN</td>\n      <td>NaN</td>\n      <td>NaN</td>\n      <td>NaN</td>\n      <td>NaN</td>\n    </tr>\n  </tbody>\n</table>\n<p>5 rows × 4061 columns</p>\n</div>"
     },
     "metadata": {},
     "execution_count": 21
    }
   ],
   "source": [
    "df_count = pd.DataFrame()\n",
    "\n",
    "for i in range(df_cases['case'].shape[0]):\n",
    "#     print(i)\n",
    "    df_count = df_count.append(pd.DataFrame(df_cases['case'][i], index=[0]))\n",
    "    \n",
    "df_count.reset_index(drop = True, inplace = True)\n",
    "df_count.head()\n",
    "\n",
    "# df_count.fillna('0', inplace = True)\n",
    "\n",
    "\n",
    "# df_count = pd.DataFrame(df_cases['case'][0], index=[0])\n",
    "\n",
    "# df_count.append(pd.DataFrame(df_cases['case'][1], index=[0]))\n",
    "\n",
    "# df_count"
   ]
  },
  {
   "cell_type": "code",
   "execution_count": 23,
   "metadata": {},
   "outputs": [
    {
     "output_type": "execute_result",
     "data": {
      "text/plain": "314"
     },
     "metadata": {},
     "execution_count": 23
    }
   ],
   "source": [
    "df_count.shape[0]"
   ]
  },
  {
   "cell_type": "code",
   "execution_count": 24,
   "metadata": {},
   "outputs": [
    {
     "output_type": "execute_result",
     "data": {
      "text/plain": "   start  new  project  someth  big  talk  youtub  specif  market  money  ...  \\\n0    1.0  1.0      1.0     2.0  4.0   1.0     1.0     1.0     1.0    2.0  ...   \n1    1.0  2.0      NaN     NaN  NaN   NaN     NaN     NaN     NaN    NaN  ...   \n2    NaN  NaN      NaN     1.0  NaN   NaN     NaN     NaN     NaN    NaN  ...   \n3    NaN  NaN      NaN     NaN  NaN   NaN     NaN     NaN     NaN    3.0  ...   \n4    1.0  NaN      NaN     1.0  NaN   1.0     NaN     1.0     NaN    NaN  ...   \n\n   getgo  georg  webinar  foot  advic  arrow  huff  woah  phrase    category  \n0    NaN    NaN      NaN   NaN    NaN    NaN   NaN   NaN     NaN      Dunces  \n1    NaN    NaN      NaN   NaN    NaN    NaN   NaN   NaN     NaN    Ingrates  \n2    NaN    NaN      NaN   NaN    NaN    NaN   NaN   NaN     NaN     Racists  \n3    NaN    NaN      NaN   NaN    NaN    NaN   NaN   NaN     NaN  Homophobes  \n4    NaN    NaN      NaN   NaN    NaN    NaN   NaN   NaN     NaN     Cryptic  \n\n[5 rows x 4062 columns]",
      "text/html": "<div>\n<style scoped>\n    .dataframe tbody tr th:only-of-type {\n        vertical-align: middle;\n    }\n\n    .dataframe tbody tr th {\n        vertical-align: top;\n    }\n\n    .dataframe thead th {\n        text-align: right;\n    }\n</style>\n<table border=\"1\" class=\"dataframe\">\n  <thead>\n    <tr style=\"text-align: right;\">\n      <th></th>\n      <th>start</th>\n      <th>new</th>\n      <th>project</th>\n      <th>someth</th>\n      <th>big</th>\n      <th>talk</th>\n      <th>youtub</th>\n      <th>specif</th>\n      <th>market</th>\n      <th>money</th>\n      <th>...</th>\n      <th>getgo</th>\n      <th>georg</th>\n      <th>webinar</th>\n      <th>foot</th>\n      <th>advic</th>\n      <th>arrow</th>\n      <th>huff</th>\n      <th>woah</th>\n      <th>phrase</th>\n      <th>category</th>\n    </tr>\n  </thead>\n  <tbody>\n    <tr>\n      <th>0</th>\n      <td>1.0</td>\n      <td>1.0</td>\n      <td>1.0</td>\n      <td>2.0</td>\n      <td>4.0</td>\n      <td>1.0</td>\n      <td>1.0</td>\n      <td>1.0</td>\n      <td>1.0</td>\n      <td>2.0</td>\n      <td>...</td>\n      <td>NaN</td>\n      <td>NaN</td>\n      <td>NaN</td>\n      <td>NaN</td>\n      <td>NaN</td>\n      <td>NaN</td>\n      <td>NaN</td>\n      <td>NaN</td>\n      <td>NaN</td>\n      <td>Dunces</td>\n    </tr>\n    <tr>\n      <th>1</th>\n      <td>1.0</td>\n      <td>2.0</td>\n      <td>NaN</td>\n      <td>NaN</td>\n      <td>NaN</td>\n      <td>NaN</td>\n      <td>NaN</td>\n      <td>NaN</td>\n      <td>NaN</td>\n      <td>NaN</td>\n      <td>...</td>\n      <td>NaN</td>\n      <td>NaN</td>\n      <td>NaN</td>\n      <td>NaN</td>\n      <td>NaN</td>\n      <td>NaN</td>\n      <td>NaN</td>\n      <td>NaN</td>\n      <td>NaN</td>\n      <td>Ingrates</td>\n    </tr>\n    <tr>\n      <th>2</th>\n      <td>NaN</td>\n      <td>NaN</td>\n      <td>NaN</td>\n      <td>1.0</td>\n      <td>NaN</td>\n      <td>NaN</td>\n      <td>NaN</td>\n      <td>NaN</td>\n      <td>NaN</td>\n      <td>NaN</td>\n      <td>...</td>\n      <td>NaN</td>\n      <td>NaN</td>\n      <td>NaN</td>\n      <td>NaN</td>\n      <td>NaN</td>\n      <td>NaN</td>\n      <td>NaN</td>\n      <td>NaN</td>\n      <td>NaN</td>\n      <td>Racists</td>\n    </tr>\n    <tr>\n      <th>3</th>\n      <td>NaN</td>\n      <td>NaN</td>\n      <td>NaN</td>\n      <td>NaN</td>\n      <td>NaN</td>\n      <td>NaN</td>\n      <td>NaN</td>\n      <td>NaN</td>\n      <td>NaN</td>\n      <td>3.0</td>\n      <td>...</td>\n      <td>NaN</td>\n      <td>NaN</td>\n      <td>NaN</td>\n      <td>NaN</td>\n      <td>NaN</td>\n      <td>NaN</td>\n      <td>NaN</td>\n      <td>NaN</td>\n      <td>NaN</td>\n      <td>Homophobes</td>\n    </tr>\n    <tr>\n      <th>4</th>\n      <td>1.0</td>\n      <td>NaN</td>\n      <td>NaN</td>\n      <td>1.0</td>\n      <td>NaN</td>\n      <td>1.0</td>\n      <td>NaN</td>\n      <td>1.0</td>\n      <td>NaN</td>\n      <td>NaN</td>\n      <td>...</td>\n      <td>NaN</td>\n      <td>NaN</td>\n      <td>NaN</td>\n      <td>NaN</td>\n      <td>NaN</td>\n      <td>NaN</td>\n      <td>NaN</td>\n      <td>NaN</td>\n      <td>NaN</td>\n      <td>Cryptic</td>\n    </tr>\n  </tbody>\n</table>\n<p>5 rows × 4062 columns</p>\n</div>"
     },
     "metadata": {},
     "execution_count": 24
    }
   ],
   "source": [
    "df_count['category'] = df_cases['category']\n",
    "df_count.to_csv('final_dataframe.csv')\n",
    "df_count.head()"
   ]
  },
  {
   "cell_type": "code",
   "execution_count": 28,
   "metadata": {},
   "outputs": [],
   "source": [
    "df_up = pd.read_csv('final_dataframe.csv')\n",
    "df_up.drop(columns = 'Unnamed: 0', inplace = True)\n",
    "df_final = df_final.fillna('0')"
   ]
  },
  {
   "cell_type": "code",
   "execution_count": 29,
   "metadata": {
    "tags": []
   },
   "outputs": [
    {
     "output_type": "stream",
     "name": "stdout",
     "text": "<class 'pandas.core.frame.DataFrame'>\nRangeIndex: 314 entries, 0 to 313\nColumns: 4061 entries, start to phrase\ndtypes: int64(4061)\nmemory usage: 9.7 MB\n"
    }
   ],
   "source": [
    "features = df_final[[col for col in df_final.columns if col != 'category']]\n",
    "features = features.astype(int)\n",
    "features.info()"
   ]
  },
  {
   "cell_type": "code",
   "execution_count": 31,
   "metadata": {},
   "outputs": [
    {
     "output_type": "execute_result",
     "data": {
      "text/plain": "0"
     },
     "metadata": {},
     "execution_count": 31
    }
   ],
   "source": [
    "target = df_final[['category']]\n",
    "#target\n",
    "\n",
    "for i in range(target.shape[0]):\n",
    "    target['category'] = [x.replace(x, '1') if x == 'Deadbeats' else x.replace(x,'0') for x in target['category']]\n",
    "    \n",
    "target = target.astype(int)\n",
    "# type(target['category'][100])\n",
    "\n",
    "target['category'][0]"
   ]
  },
  {
   "cell_type": "code",
   "execution_count": 32,
   "metadata": {},
   "outputs": [
    {
     "output_type": "execute_result",
     "data": {
      "text/plain": "     start  new  project  someth  big  talk  youtub  specif  market  money  \\\n113      2    1        1       1    0     0       0       0       0      2   \n101      0    0        0       1    1     0       0       0       0      1   \n137      1    1        0       0    0     1       0       0       0      0   \n73       0    3        0       0    0     1       0       0       0      0   \n93       0    1        0       2    0     0       0       0       0      0   \n\n     ...  centr  getgo  georg  webinar  foot  advic  arrow  huff  woah  phrase  \n113  ...      0      0      0        0     0      0      0     0     0       0  \n101  ...      0      0      0        0     0      0      0     0     0       0  \n137  ...      0      0      0        0     0      0      0     0     0       0  \n73   ...      0      0      0        0     0      0      0     0     0       0  \n93   ...      0      0      0        0     0      0      0     0     0       0  \n\n[5 rows x 4061 columns]",
      "text/html": "<div>\n<style scoped>\n    .dataframe tbody tr th:only-of-type {\n        vertical-align: middle;\n    }\n\n    .dataframe tbody tr th {\n        vertical-align: top;\n    }\n\n    .dataframe thead th {\n        text-align: right;\n    }\n</style>\n<table border=\"1\" class=\"dataframe\">\n  <thead>\n    <tr style=\"text-align: right;\">\n      <th></th>\n      <th>start</th>\n      <th>new</th>\n      <th>project</th>\n      <th>someth</th>\n      <th>big</th>\n      <th>talk</th>\n      <th>youtub</th>\n      <th>specif</th>\n      <th>market</th>\n      <th>money</th>\n      <th>...</th>\n      <th>centr</th>\n      <th>getgo</th>\n      <th>georg</th>\n      <th>webinar</th>\n      <th>foot</th>\n      <th>advic</th>\n      <th>arrow</th>\n      <th>huff</th>\n      <th>woah</th>\n      <th>phrase</th>\n    </tr>\n  </thead>\n  <tbody>\n    <tr>\n      <th>113</th>\n      <td>2</td>\n      <td>1</td>\n      <td>1</td>\n      <td>1</td>\n      <td>0</td>\n      <td>0</td>\n      <td>0</td>\n      <td>0</td>\n      <td>0</td>\n      <td>2</td>\n      <td>...</td>\n      <td>0</td>\n      <td>0</td>\n      <td>0</td>\n      <td>0</td>\n      <td>0</td>\n      <td>0</td>\n      <td>0</td>\n      <td>0</td>\n      <td>0</td>\n      <td>0</td>\n    </tr>\n    <tr>\n      <th>101</th>\n      <td>0</td>\n      <td>0</td>\n      <td>0</td>\n      <td>1</td>\n      <td>1</td>\n      <td>0</td>\n      <td>0</td>\n      <td>0</td>\n      <td>0</td>\n      <td>1</td>\n      <td>...</td>\n      <td>0</td>\n      <td>0</td>\n      <td>0</td>\n      <td>0</td>\n      <td>0</td>\n      <td>0</td>\n      <td>0</td>\n      <td>0</td>\n      <td>0</td>\n      <td>0</td>\n    </tr>\n    <tr>\n      <th>137</th>\n      <td>1</td>\n      <td>1</td>\n      <td>0</td>\n      <td>0</td>\n      <td>0</td>\n      <td>1</td>\n      <td>0</td>\n      <td>0</td>\n      <td>0</td>\n      <td>0</td>\n      <td>...</td>\n      <td>0</td>\n      <td>0</td>\n      <td>0</td>\n      <td>0</td>\n      <td>0</td>\n      <td>0</td>\n      <td>0</td>\n      <td>0</td>\n      <td>0</td>\n      <td>0</td>\n    </tr>\n    <tr>\n      <th>73</th>\n      <td>0</td>\n      <td>3</td>\n      <td>0</td>\n      <td>0</td>\n      <td>0</td>\n      <td>1</td>\n      <td>0</td>\n      <td>0</td>\n      <td>0</td>\n      <td>0</td>\n      <td>...</td>\n      <td>0</td>\n      <td>0</td>\n      <td>0</td>\n      <td>0</td>\n      <td>0</td>\n      <td>0</td>\n      <td>0</td>\n      <td>0</td>\n      <td>0</td>\n      <td>0</td>\n    </tr>\n    <tr>\n      <th>93</th>\n      <td>0</td>\n      <td>1</td>\n      <td>0</td>\n      <td>2</td>\n      <td>0</td>\n      <td>0</td>\n      <td>0</td>\n      <td>0</td>\n      <td>0</td>\n      <td>0</td>\n      <td>...</td>\n      <td>0</td>\n      <td>0</td>\n      <td>0</td>\n      <td>0</td>\n      <td>0</td>\n      <td>0</td>\n      <td>0</td>\n      <td>0</td>\n      <td>0</td>\n      <td>0</td>\n    </tr>\n  </tbody>\n</table>\n<p>5 rows × 4061 columns</p>\n</div>"
     },
     "metadata": {},
     "execution_count": 32
    }
   ],
   "source": [
    "X_train, X_test, y_train, y_test = train_test_split(\n",
    "    features, # Features (X)\n",
    "    target, # Target (y)\n",
    "    test_size = .2,\n",
    "    random_state = 42\n",
    ")\n",
    "\n",
    "X_train.head()"
   ]
  },
  {
   "cell_type": "code",
   "execution_count": 33,
   "metadata": {},
   "outputs": [
    {
     "output_type": "execute_result",
     "data": {
      "text/plain": "     category\n113         0\n101         0\n137         0\n73          0\n93          0",
      "text/html": "<div>\n<style scoped>\n    .dataframe tbody tr th:only-of-type {\n        vertical-align: middle;\n    }\n\n    .dataframe tbody tr th {\n        vertical-align: top;\n    }\n\n    .dataframe thead th {\n        text-align: right;\n    }\n</style>\n<table border=\"1\" class=\"dataframe\">\n  <thead>\n    <tr style=\"text-align: right;\">\n      <th></th>\n      <th>category</th>\n    </tr>\n  </thead>\n  <tbody>\n    <tr>\n      <th>113</th>\n      <td>0</td>\n    </tr>\n    <tr>\n      <th>101</th>\n      <td>0</td>\n    </tr>\n    <tr>\n      <th>137</th>\n      <td>0</td>\n    </tr>\n    <tr>\n      <th>73</th>\n      <td>0</td>\n    </tr>\n    <tr>\n      <th>93</th>\n      <td>0</td>\n    </tr>\n  </tbody>\n</table>\n</div>"
     },
     "metadata": {},
     "execution_count": 33
    }
   ],
   "source": [
    "y_train.head()"
   ]
  },
  {
   "cell_type": "code",
   "execution_count": 34,
   "metadata": {},
   "outputs": [
    {
     "output_type": "execute_result",
     "data": {
      "text/plain": "1.0"
     },
     "metadata": {},
     "execution_count": 34
    }
   ],
   "source": [
    "from sklearn.neighbors import KNeighborsClassifier\n",
    "\n",
    "knn = KNeighborsClassifier(n_neighbors = 3).fit(X_train, y_train.values.ravel())\n",
    "\n",
    "knn.score(X_test, y_test)"
   ]
  },
  {
   "cell_type": "code",
   "execution_count": 35,
   "metadata": {},
   "outputs": [
    {
     "output_type": "execute_result",
     "data": {
      "text/plain": "1.0"
     },
     "metadata": {},
     "execution_count": 35
    }
   ],
   "source": [
    "from sklearn.naive_bayes import BernoulliNB\n",
    "\n",
    "bernoulli = BernoulliNB().fit(X_train, y_train.values.ravel())\n",
    "bernoulli.score(X_test, y_test)"
   ]
  },
  {
   "cell_type": "code",
   "execution_count": 36,
   "metadata": {},
   "outputs": [
    {
     "output_type": "execute_result",
     "data": {
      "text/plain": "1.0"
     },
     "metadata": {},
     "execution_count": 36
    }
   ],
   "source": [
    "from sklearn.naive_bayes import GaussianNB\n",
    "\n",
    "guassian = GaussianNB().fit(X_train, y_train.values.ravel())\n",
    "guassian.score(X_test, y_test)"
   ]
  },
  {
   "cell_type": "code",
   "execution_count": 37,
   "metadata": {},
   "outputs": [],
   "source": [
    "def model_score_mul(x):\n",
    "    import time\n",
    "    \n",
    "    score = x.score(X_test, y_test_mul)*100\n",
    "    if score >= 50.0:\n",
    "        print('The score for this algorithm is (drum roll please!!!): ')\n",
    "        time.sleep(3)\n",
    "        print('.... processing')\n",
    "        time.sleep(3)\n",
    "        print('....')\n",
    "        time.sleep(3)\n",
    "        print('*looks at you confused*')\n",
    "        time.sleep(3)\n",
    "        print('oh yeah, you are waiting for the score... LOL')\n",
    "        print('score: ',score,'%')\n",
    "        print(\"DON'T GET COCKY NOW!!! KEEP MAKING IT BETTER!\")\n",
    "    elif score < 50.0:\n",
    "        print('I got good news, and bad news...')\n",
    "        time.sleep(2)\n",
    "        print('the bad news is that you will not like the score...')\n",
    "        time.sleep(2)\n",
    "        print(\"Now, the good news is that I'm right here to watch your face!!! LOL\")\n",
    "        print('The score for this algorithm is: ',score,'%')\n",
    "        time.sleep(2)\n",
    "        print('')\n",
    "        print(\"Your algorithm stinks so much, I could toss a coin and make better predictions =P...\")"
   ]
  },
  {
   "cell_type": "code",
   "execution_count": 38,
   "metadata": {},
   "outputs": [],
   "source": [
    "cat_dic = {'Dunces': 0,'Criminals': 1,'Deadbeats': 2,'Racists': 3,'Homophobes': 4,\n",
    "        'Sexist': 5,'Frenemies': 6,'Cryptic': 7,'Ingrates': 8,'Chaotic Good': 9}"
   ]
  },
  {
   "cell_type": "code",
   "execution_count": 40,
   "metadata": {
    "tags": []
   },
   "outputs": [
    {
     "output_type": "stream",
     "name": "stdout",
     "text": "The score for this algorithm is (drum roll please!!!): \n.... processing\n....\n*looks at you confused*\noh yeah, you are waiting for the score... LOL\nscore:  57.14285714285714 %\nDON'T GET COCKY NOW!!! KEEP MAKING IT BETTER!\n"
    }
   ],
   "source": [
    "target_mul = df_final[['category']].replace(cat_dic, regex=True)\n",
    "# target_mul.head()\n",
    "\n",
    "# df['commentTest'] = df['Comment'].replace(ids, regex=True)\n",
    "\n",
    "X_train, X_test, y_train_mul, y_test_mul = train_test_split(\n",
    "    features, # Features (X)\n",
    "    target_mul, # Target (y)\n",
    "    test_size = .2,\n",
    "    random_state = 42\n",
    ")\n",
    "\n",
    "from sklearn.linear_model import LogisticRegression\n",
    "\n",
    "log_regr = LogisticRegression(solver = 'lbfgs')\n",
    "log_regr.fit(X_train, y_train_mul.values.ravel())\n",
    "model_score_mul(log_regr)"
   ]
  },
  {
   "cell_type": "code",
   "execution_count": 41,
   "metadata": {
    "tags": []
   },
   "outputs": [
    {
     "output_type": "stream",
     "name": "stdout",
     "text": "I got good news, and bad news...\nthe bad news is that you will not like the score...\nNow, the good news is that I'm right here to watch your face!!! LOL\nThe score for this algorithm is:  44.44444444444444 %\n\nYour algorithm stinks so much, I could toss a coin and make better predictions =P...\n"
    }
   ],
   "source": [
    "from sklearn.neighbors import KNeighborsClassifier\n",
    "\n",
    "knn = KNeighborsClassifier(n_neighbors = 3) # k = 5 by default\n",
    "knn.fit(X_train, y_train_mul.values.ravel())\n",
    "model_score_mul(knn)"
   ]
  },
  {
   "cell_type": "code",
   "execution_count": 42,
   "metadata": {},
   "outputs": [
    {
     "output_type": "execute_result",
     "data": {
      "text/plain": "array([[2., 1., 2., ..., 0., 0., 0.],\n       [0., 0., 0., ..., 0., 0., 0.],\n       [1., 1., 0., ..., 0., 0., 0.],\n       [0., 3., 0., ..., 0., 0., 0.],\n       [0., 1., 0., ..., 0., 0., 0.]])"
     },
     "metadata": {},
     "execution_count": 42
    }
   ],
   "source": [
    "from sklearn.preprocessing import RobustScaler\n",
    "\n",
    "scalar = RobustScaler().fit(X_train)\n",
    "scalar.transform(X_train)[:5]"
   ]
  },
  {
   "cell_type": "code",
   "execution_count": 43,
   "metadata": {
    "tags": []
   },
   "outputs": [
    {
     "output_type": "stream",
     "name": "stdout",
     "text": "I got good news, and bad news...\nthe bad news is that you will not like the score...\nNow, the good news is that I'm right here to watch your face!!! LOL\nThe score for this algorithm is:  47.61904761904761 %\n\nYour algorithm stinks so much, I could toss a coin and make better predictions =P...\n"
    }
   ],
   "source": [
    "knn_robust = KNeighborsClassifier()\n",
    "knn_robust.fit(scalar.transform(X_train), y_train_mul.values.ravel())\n",
    "model_score_mul(knn_robust)"
   ]
  },
  {
   "cell_type": "code",
   "execution_count": 44,
   "metadata": {
    "tags": []
   },
   "outputs": [
    {
     "output_type": "stream",
     "name": "stdout",
     "text": "The score for this algorithm is (drum roll please!!!): \n.... processing\n....\n*looks at you confused*\noh yeah, you are waiting for the score... LOL\nscore:  53.96825396825397 %\nDON'T GET COCKY NOW!!! KEEP MAKING IT BETTER!\n"
    }
   ],
   "source": [
    "from sklearn.naive_bayes import MultinomialNB\n",
    "\n",
    "multi = MultinomialNB()\n",
    "multi.fit(X_train, y_train_mul.values.ravel())\n",
    "model_score_mul(multi)"
   ]
  },
  {
   "cell_type": "code",
   "execution_count": 45,
   "metadata": {
    "tags": []
   },
   "outputs": [
    {
     "output_type": "stream",
     "name": "stdout",
     "text": "I got good news, and bad news...\nthe bad news is that you will not like the score...\nNow, the good news is that I'm right here to watch your face!!! LOL\nThe score for this algorithm is:  44.44444444444444 %\n\nYour algorithm stinks so much, I could toss a coin and make better predictions =P...\n"
    }
   ],
   "source": [
    "from sklearn.ensemble import RandomForestClassifier\n",
    "\n",
    "rfc = RandomForestClassifier(max_depth=10, random_state=42)\n",
    "rfc.fit(X_train, y_train_mul.values.ravel())\n",
    "model_score_mul(rfc)"
   ]
  },
  {
   "cell_type": "code",
   "execution_count": 48,
   "metadata": {},
   "outputs": [],
   "source": [
    "features_bool = df_final[[col for col in df_final.columns if col != 'category']]\n",
    "features_bool = features.astype(bool)"
   ]
  },
  {
   "cell_type": "code",
   "execution_count": 49,
   "metadata": {},
   "outputs": [
    {
     "output_type": "execute_result",
     "data": {
      "text/plain": "   start    new  project  someth    big   talk  youtub  specif  market  money  \\\n0   True   True     True    True   True   True    True    True    True   True   \n1   True   True    False   False  False  False   False   False   False  False   \n2  False  False    False    True  False  False   False   False   False  False   \n3  False  False    False   False  False  False   False   False   False   True   \n4   True  False    False    True  False   True   False    True   False  False   \n\n   ...  centr  getgo  georg  webinar   foot  advic  arrow   huff   woah  \\\n0  ...  False  False  False    False  False  False  False  False  False   \n1  ...  False  False  False    False  False  False  False  False  False   \n2  ...  False  False  False    False  False  False  False  False  False   \n3  ...  False  False  False    False  False  False  False  False  False   \n4  ...  False  False  False    False  False  False  False  False  False   \n\n   phrase  \n0   False  \n1   False  \n2   False  \n3   False  \n4   False  \n\n[5 rows x 4061 columns]",
      "text/html": "<div>\n<style scoped>\n    .dataframe tbody tr th:only-of-type {\n        vertical-align: middle;\n    }\n\n    .dataframe tbody tr th {\n        vertical-align: top;\n    }\n\n    .dataframe thead th {\n        text-align: right;\n    }\n</style>\n<table border=\"1\" class=\"dataframe\">\n  <thead>\n    <tr style=\"text-align: right;\">\n      <th></th>\n      <th>start</th>\n      <th>new</th>\n      <th>project</th>\n      <th>someth</th>\n      <th>big</th>\n      <th>talk</th>\n      <th>youtub</th>\n      <th>specif</th>\n      <th>market</th>\n      <th>money</th>\n      <th>...</th>\n      <th>centr</th>\n      <th>getgo</th>\n      <th>georg</th>\n      <th>webinar</th>\n      <th>foot</th>\n      <th>advic</th>\n      <th>arrow</th>\n      <th>huff</th>\n      <th>woah</th>\n      <th>phrase</th>\n    </tr>\n  </thead>\n  <tbody>\n    <tr>\n      <th>0</th>\n      <td>True</td>\n      <td>True</td>\n      <td>True</td>\n      <td>True</td>\n      <td>True</td>\n      <td>True</td>\n      <td>True</td>\n      <td>True</td>\n      <td>True</td>\n      <td>True</td>\n      <td>...</td>\n      <td>False</td>\n      <td>False</td>\n      <td>False</td>\n      <td>False</td>\n      <td>False</td>\n      <td>False</td>\n      <td>False</td>\n      <td>False</td>\n      <td>False</td>\n      <td>False</td>\n    </tr>\n    <tr>\n      <th>1</th>\n      <td>True</td>\n      <td>True</td>\n      <td>False</td>\n      <td>False</td>\n      <td>False</td>\n      <td>False</td>\n      <td>False</td>\n      <td>False</td>\n      <td>False</td>\n      <td>False</td>\n      <td>...</td>\n      <td>False</td>\n      <td>False</td>\n      <td>False</td>\n      <td>False</td>\n      <td>False</td>\n      <td>False</td>\n      <td>False</td>\n      <td>False</td>\n      <td>False</td>\n      <td>False</td>\n    </tr>\n    <tr>\n      <th>2</th>\n      <td>False</td>\n      <td>False</td>\n      <td>False</td>\n      <td>True</td>\n      <td>False</td>\n      <td>False</td>\n      <td>False</td>\n      <td>False</td>\n      <td>False</td>\n      <td>False</td>\n      <td>...</td>\n      <td>False</td>\n      <td>False</td>\n      <td>False</td>\n      <td>False</td>\n      <td>False</td>\n      <td>False</td>\n      <td>False</td>\n      <td>False</td>\n      <td>False</td>\n      <td>False</td>\n    </tr>\n    <tr>\n      <th>3</th>\n      <td>False</td>\n      <td>False</td>\n      <td>False</td>\n      <td>False</td>\n      <td>False</td>\n      <td>False</td>\n      <td>False</td>\n      <td>False</td>\n      <td>False</td>\n      <td>True</td>\n      <td>...</td>\n      <td>False</td>\n      <td>False</td>\n      <td>False</td>\n      <td>False</td>\n      <td>False</td>\n      <td>False</td>\n      <td>False</td>\n      <td>False</td>\n      <td>False</td>\n      <td>False</td>\n    </tr>\n    <tr>\n      <th>4</th>\n      <td>True</td>\n      <td>False</td>\n      <td>False</td>\n      <td>True</td>\n      <td>False</td>\n      <td>True</td>\n      <td>False</td>\n      <td>True</td>\n      <td>False</td>\n      <td>False</td>\n      <td>...</td>\n      <td>False</td>\n      <td>False</td>\n      <td>False</td>\n      <td>False</td>\n      <td>False</td>\n      <td>False</td>\n      <td>False</td>\n      <td>False</td>\n      <td>False</td>\n      <td>False</td>\n    </tr>\n  </tbody>\n</table>\n<p>5 rows × 4061 columns</p>\n</div>"
     },
     "metadata": {},
     "execution_count": 49
    }
   ],
   "source": [
    "features_bool.head()"
   ]
  },
  {
   "cell_type": "code",
   "execution_count": 50,
   "metadata": {},
   "outputs": [
    {
     "output_type": "execute_result",
     "data": {
      "text/plain": "     start    new  project  someth    big   talk  youtub  specif  market  \\\n113   True   True     True    True  False  False   False   False   False   \n101  False  False    False    True   True  False   False   False   False   \n137   True   True    False   False  False   True   False   False   False   \n73   False   True    False   False  False   True   False   False   False   \n93   False   True    False    True  False  False   False   False   False   \n\n     money  ...  centr  getgo  georg  webinar   foot  advic  arrow   huff  \\\n113   True  ...  False  False  False    False  False  False  False  False   \n101   True  ...  False  False  False    False  False  False  False  False   \n137  False  ...  False  False  False    False  False  False  False  False   \n73   False  ...  False  False  False    False  False  False  False  False   \n93   False  ...  False  False  False    False  False  False  False  False   \n\n      woah  phrase  \n113  False   False  \n101  False   False  \n137  False   False  \n73   False   False  \n93   False   False  \n\n[5 rows x 4061 columns]",
      "text/html": "<div>\n<style scoped>\n    .dataframe tbody tr th:only-of-type {\n        vertical-align: middle;\n    }\n\n    .dataframe tbody tr th {\n        vertical-align: top;\n    }\n\n    .dataframe thead th {\n        text-align: right;\n    }\n</style>\n<table border=\"1\" class=\"dataframe\">\n  <thead>\n    <tr style=\"text-align: right;\">\n      <th></th>\n      <th>start</th>\n      <th>new</th>\n      <th>project</th>\n      <th>someth</th>\n      <th>big</th>\n      <th>talk</th>\n      <th>youtub</th>\n      <th>specif</th>\n      <th>market</th>\n      <th>money</th>\n      <th>...</th>\n      <th>centr</th>\n      <th>getgo</th>\n      <th>georg</th>\n      <th>webinar</th>\n      <th>foot</th>\n      <th>advic</th>\n      <th>arrow</th>\n      <th>huff</th>\n      <th>woah</th>\n      <th>phrase</th>\n    </tr>\n  </thead>\n  <tbody>\n    <tr>\n      <th>113</th>\n      <td>True</td>\n      <td>True</td>\n      <td>True</td>\n      <td>True</td>\n      <td>False</td>\n      <td>False</td>\n      <td>False</td>\n      <td>False</td>\n      <td>False</td>\n      <td>True</td>\n      <td>...</td>\n      <td>False</td>\n      <td>False</td>\n      <td>False</td>\n      <td>False</td>\n      <td>False</td>\n      <td>False</td>\n      <td>False</td>\n      <td>False</td>\n      <td>False</td>\n      <td>False</td>\n    </tr>\n    <tr>\n      <th>101</th>\n      <td>False</td>\n      <td>False</td>\n      <td>False</td>\n      <td>True</td>\n      <td>True</td>\n      <td>False</td>\n      <td>False</td>\n      <td>False</td>\n      <td>False</td>\n      <td>True</td>\n      <td>...</td>\n      <td>False</td>\n      <td>False</td>\n      <td>False</td>\n      <td>False</td>\n      <td>False</td>\n      <td>False</td>\n      <td>False</td>\n      <td>False</td>\n      <td>False</td>\n      <td>False</td>\n    </tr>\n    <tr>\n      <th>137</th>\n      <td>True</td>\n      <td>True</td>\n      <td>False</td>\n      <td>False</td>\n      <td>False</td>\n      <td>True</td>\n      <td>False</td>\n      <td>False</td>\n      <td>False</td>\n      <td>False</td>\n      <td>...</td>\n      <td>False</td>\n      <td>False</td>\n      <td>False</td>\n      <td>False</td>\n      <td>False</td>\n      <td>False</td>\n      <td>False</td>\n      <td>False</td>\n      <td>False</td>\n      <td>False</td>\n    </tr>\n    <tr>\n      <th>73</th>\n      <td>False</td>\n      <td>True</td>\n      <td>False</td>\n      <td>False</td>\n      <td>False</td>\n      <td>True</td>\n      <td>False</td>\n      <td>False</td>\n      <td>False</td>\n      <td>False</td>\n      <td>...</td>\n      <td>False</td>\n      <td>False</td>\n      <td>False</td>\n      <td>False</td>\n      <td>False</td>\n      <td>False</td>\n      <td>False</td>\n      <td>False</td>\n      <td>False</td>\n      <td>False</td>\n    </tr>\n    <tr>\n      <th>93</th>\n      <td>False</td>\n      <td>True</td>\n      <td>False</td>\n      <td>True</td>\n      <td>False</td>\n      <td>False</td>\n      <td>False</td>\n      <td>False</td>\n      <td>False</td>\n      <td>False</td>\n      <td>...</td>\n      <td>False</td>\n      <td>False</td>\n      <td>False</td>\n      <td>False</td>\n      <td>False</td>\n      <td>False</td>\n      <td>False</td>\n      <td>False</td>\n      <td>False</td>\n      <td>False</td>\n    </tr>\n  </tbody>\n</table>\n<p>5 rows × 4061 columns</p>\n</div>"
     },
     "metadata": {},
     "execution_count": 50
    }
   ],
   "source": [
    "X_train_bool, X_test_bool, y_train_mul, y_test_mul = train_test_split(\n",
    "    features_bool, # Features (X)\n",
    "    target_mul, # Target (y)\n",
    "    test_size = .2,\n",
    "    random_state = 42\n",
    ")\n",
    "\n",
    "X_train_bool.head()"
   ]
  },
  {
   "cell_type": "code",
   "execution_count": 51,
   "metadata": {},
   "outputs": [
    {
     "output_type": "execute_result",
     "data": {
      "text/plain": "     category\n113         2\n101         1\n137         9\n73          0\n93          7\n..        ...\n188         2\n71          1\n106         9\n270         0\n102         2\n\n[251 rows x 1 columns]",
      "text/html": "<div>\n<style scoped>\n    .dataframe tbody tr th:only-of-type {\n        vertical-align: middle;\n    }\n\n    .dataframe tbody tr th {\n        vertical-align: top;\n    }\n\n    .dataframe thead th {\n        text-align: right;\n    }\n</style>\n<table border=\"1\" class=\"dataframe\">\n  <thead>\n    <tr style=\"text-align: right;\">\n      <th></th>\n      <th>category</th>\n    </tr>\n  </thead>\n  <tbody>\n    <tr>\n      <th>113</th>\n      <td>2</td>\n    </tr>\n    <tr>\n      <th>101</th>\n      <td>1</td>\n    </tr>\n    <tr>\n      <th>137</th>\n      <td>9</td>\n    </tr>\n    <tr>\n      <th>73</th>\n      <td>0</td>\n    </tr>\n    <tr>\n      <th>93</th>\n      <td>7</td>\n    </tr>\n    <tr>\n      <th>...</th>\n      <td>...</td>\n    </tr>\n    <tr>\n      <th>188</th>\n      <td>2</td>\n    </tr>\n    <tr>\n      <th>71</th>\n      <td>1</td>\n    </tr>\n    <tr>\n      <th>106</th>\n      <td>9</td>\n    </tr>\n    <tr>\n      <th>270</th>\n      <td>0</td>\n    </tr>\n    <tr>\n      <th>102</th>\n      <td>2</td>\n    </tr>\n  </tbody>\n</table>\n<p>251 rows × 1 columns</p>\n</div>"
     },
     "metadata": {},
     "execution_count": 51
    }
   ],
   "source": [
    "y_train_mul"
   ]
  },
  {
   "cell_type": "code",
   "execution_count": 52,
   "metadata": {
    "tags": []
   },
   "outputs": [
    {
     "output_type": "stream",
     "name": "stdout",
     "text": "I got good news, and bad news...\nthe bad news is that you will not like the score...\nNow, the good news is that I'm right here to watch your face!!! LOL\nThe score for this algorithm is:  33.33333333333333 %\n\nYour algorithm stinks so much, I could toss a coin and make better predictions =P...\n"
    }
   ],
   "source": [
    "bernoulli = BernoulliNB().fit(X_train_bool, y_train_mul.values.ravel())\n",
    "model_score_mul(bernoulli)"
   ]
  },
  {
   "cell_type": "code",
   "execution_count": 53,
   "metadata": {},
   "outputs": [],
   "source": [
    "pred_log_regr = log_regr.predict(X_test)\n",
    "pred_multi = multi.predict(X_test)\n",
    "pred_bernoulli = bernoulli.predict(X_test_bool)\n"
   ]
  },
  {
   "cell_type": "code",
   "execution_count": 54,
   "metadata": {
    "tags": []
   },
   "outputs": [
    {
     "output_type": "stream",
     "name": "stdout",
     "text": "R^2 for Log Regression:  -0.3856222311719695\nR^2 for Multinomial NB:  -0.852194925493355\nR^2 for Bernoulli NB:  -1.5443012484897305\n"
    }
   ],
   "source": [
    "from sklearn.metrics import r2_score\n",
    "\n",
    "print('R^2 for Log Regression: ', r2_score(y_test_mul, pred_log_regr))\n",
    "print('R^2 for Multinomial NB: ', r2_score(y_test_mul, pred_multi))\n",
    "print('R^2 for Bernoulli NB: ', r2_score(y_test_mul, pred_bernoulli))\n"
   ]
  },
  {
   "cell_type": "code",
   "execution_count": 55,
   "metadata": {
    "tags": []
   },
   "outputs": [
    {
     "output_type": "stream",
     "name": "stdout",
     "text": "MSE for Log Regression:  15.603174603174603\nMSE for Multinomial NB:  20.857142857142858\nMSE for Bernoulli NB:  28.650793650793652\n"
    }
   ],
   "source": [
    "from sklearn.metrics import mean_squared_error\n",
    "# mse = mean_squared_error(linear['actual'], linear['predicted'])\n",
    "\n",
    "print('MSE for Log Regression: ', mean_squared_error(y_test_mul, pred_log_regr))\n",
    "print('MSE for Multinomial NB: ', mean_squared_error(y_test_mul, pred_multi))\n",
    "print('MSE for Bernoulli NB: ', mean_squared_error(y_test_mul, pred_bernoulli))\n"
   ]
  },
  {
   "cell_type": "code",
   "execution_count": 56,
   "metadata": {
    "tags": []
   },
   "outputs": [
    {
     "output_type": "stream",
     "name": "stdout",
     "text": "RMSE for Log Regression:  3.9500853918839023\nRMSE for Multinomial NB:  4.566962103755937\nRMSE for Bernoulli NB:  5.3526436132806055\n"
    }
   ],
   "source": [
    "from math import sqrt\n",
    "\n",
    "print('RMSE for Log Regression: ', sqrt(mean_squared_error(y_test_mul, pred_log_regr)))\n",
    "print('RMSE for Multinomial NB: ', sqrt(mean_squared_error(y_test_mul, pred_multi)))\n",
    "print('RMSE for Bernoulli NB: ', sqrt(mean_squared_error(y_test_mul, pred_bernoulli)))"
   ]
  },
  {
   "cell_type": "code",
   "execution_count": 57,
   "metadata": {
    "tags": []
   },
   "outputs": [
    {
     "output_type": "stream",
     "name": "stdout",
     "text": "MAE for Log Regression:  2.2063492063492065\nMAE for Multinomial NB:  2.8253968253968256\nMAE for Bernoulli NB:  3.9523809523809526\n"
    }
   ],
   "source": [
    "from sklearn.metrics import mean_absolute_error\n",
    "\n",
    "# mean_absolute_error(linear['actual'], linear['predicted'])\n",
    "\n",
    "print('MAE for Log Regression: ', mean_absolute_error(y_test_mul, pred_log_regr))\n",
    "print('MAE for Multinomial NB: ', mean_absolute_error(y_test_mul, pred_multi))\n",
    "print('MAE for Bernoulli NB: ', mean_absolute_error(y_test_mul, pred_bernoulli))"
   ]
  },
  {
   "cell_type": "code",
   "execution_count": 58,
   "metadata": {
    "tags": []
   },
   "outputs": [
    {
     "output_type": "stream",
     "name": "stdout",
     "text": "Accuracy score for Log Regression:  0.5714285714285714\nAccuracy score for Multinomial NB:  0.5396825396825397\nAccuracy score for Bernoulli NB:  0.3333333333333333\n"
    }
   ],
   "source": [
    "from sklearn.metrics import accuracy_score\n",
    "\n",
    "# accuracy_score(classifier['actual'], classifier['predicted'])\n",
    "\n",
    "print('Accuracy score for Log Regression: ', accuracy_score(y_test_mul, pred_log_regr))\n",
    "print('Accuracy score for Multinomial NB: ', accuracy_score(y_test_mul, pred_multi))\n",
    "print('Accuracy score for Bernoulli NB: ', accuracy_score(y_test_mul, pred_bernoulli))"
   ]
  },
  {
   "cell_type": "code",
   "execution_count": 59,
   "metadata": {
    "tags": []
   },
   "outputs": [
    {
     "output_type": "stream",
     "name": "stdout",
     "text": "Balanced accuracy score for Log Regression:  0.31063112745098037\nBalanced accuracy score for Multinomial NB:  0.30603553921568627\nBalanced accuracy score for Bernoulli NB:  0.1953125\n"
    }
   ],
   "source": [
    "from sklearn.metrics import balanced_accuracy_score\n",
    "\n",
    "# balanced_accuracy_score(classifier['actual'], classifier['predicted'])\n",
    "\n",
    "print('Balanced accuracy score for Log Regression: ', balanced_accuracy_score(y_test_mul, pred_log_regr))\n",
    "print('Balanced accuracy score for Multinomial NB: ', balanced_accuracy_score(y_test_mul, pred_multi))\n",
    "print('Balanced accuracy score for Bernoulli NB: ', balanced_accuracy_score(y_test_mul, pred_bernoulli))"
   ]
  },
  {
   "cell_type": "code",
   "execution_count": 60,
   "metadata": {},
   "outputs": [
    {
     "output_type": "execute_result",
     "data": {
      "text/plain": "{0: 'Dunces',\n 1: 'Criminals',\n 2: 'Deadbeats',\n 3: 'Racists',\n 4: 'Homophobes',\n 5: 'Sexist',\n 6: 'Frenemies',\n 7: 'Cryptic',\n 8: 'Ingrates',\n 9: 'Chaotic Good'}"
     },
     "metadata": {},
     "execution_count": 60
    }
   ],
   "source": [
    "inv_cat_dic = dict(map(reversed, cat_dic.items()))\n",
    "inv_cat_dic"
   ]
  },
  {
   "cell_type": "code",
   "execution_count": 61,
   "metadata": {
    "tags": []
   },
   "outputs": [
    {
     "output_type": "stream",
     "name": "stdout",
     "text": "Log Regression\n"
    },
    {
     "output_type": "execute_result",
     "data": {
      "text/plain": "            Dunces  Criminals  Deadbeats  Racists  Homophobes  Sexist  \\\nDunces           8          0          1        0           0       0   \nCriminals        1          0          2        0           0       0   \nDeadbeats        3          0         13        0           0       0   \nRacists          0          0          0        0           0       1   \nHomophobes       2          0          0        0           0       0   \nSexist           3          0          0        0           0      12   \nFrenemies        1          0          0        0           0       0   \nCryptic          5          0          0        0           0       2   \n\n            Frenemies  Cryptic  \nDunces              2        1  \nCriminals           0        1  \nDeadbeats           0        0  \nRacists             0        0  \nHomophobes          0        0  \nSexist              0        2  \nFrenemies           0        0  \nCryptic             0        3  ",
      "text/html": "<div>\n<style scoped>\n    .dataframe tbody tr th:only-of-type {\n        vertical-align: middle;\n    }\n\n    .dataframe tbody tr th {\n        vertical-align: top;\n    }\n\n    .dataframe thead th {\n        text-align: right;\n    }\n</style>\n<table border=\"1\" class=\"dataframe\">\n  <thead>\n    <tr style=\"text-align: right;\">\n      <th></th>\n      <th>Dunces</th>\n      <th>Criminals</th>\n      <th>Deadbeats</th>\n      <th>Racists</th>\n      <th>Homophobes</th>\n      <th>Sexist</th>\n      <th>Frenemies</th>\n      <th>Cryptic</th>\n    </tr>\n  </thead>\n  <tbody>\n    <tr>\n      <th>Dunces</th>\n      <td>8</td>\n      <td>0</td>\n      <td>1</td>\n      <td>0</td>\n      <td>0</td>\n      <td>0</td>\n      <td>2</td>\n      <td>1</td>\n    </tr>\n    <tr>\n      <th>Criminals</th>\n      <td>1</td>\n      <td>0</td>\n      <td>2</td>\n      <td>0</td>\n      <td>0</td>\n      <td>0</td>\n      <td>0</td>\n      <td>1</td>\n    </tr>\n    <tr>\n      <th>Deadbeats</th>\n      <td>3</td>\n      <td>0</td>\n      <td>13</td>\n      <td>0</td>\n      <td>0</td>\n      <td>0</td>\n      <td>0</td>\n      <td>0</td>\n    </tr>\n    <tr>\n      <th>Racists</th>\n      <td>0</td>\n      <td>0</td>\n      <td>0</td>\n      <td>0</td>\n      <td>0</td>\n      <td>1</td>\n      <td>0</td>\n      <td>0</td>\n    </tr>\n    <tr>\n      <th>Homophobes</th>\n      <td>2</td>\n      <td>0</td>\n      <td>0</td>\n      <td>0</td>\n      <td>0</td>\n      <td>0</td>\n      <td>0</td>\n      <td>0</td>\n    </tr>\n    <tr>\n      <th>Sexist</th>\n      <td>3</td>\n      <td>0</td>\n      <td>0</td>\n      <td>0</td>\n      <td>0</td>\n      <td>12</td>\n      <td>0</td>\n      <td>2</td>\n    </tr>\n    <tr>\n      <th>Frenemies</th>\n      <td>1</td>\n      <td>0</td>\n      <td>0</td>\n      <td>0</td>\n      <td>0</td>\n      <td>0</td>\n      <td>0</td>\n      <td>0</td>\n    </tr>\n    <tr>\n      <th>Cryptic</th>\n      <td>5</td>\n      <td>0</td>\n      <td>0</td>\n      <td>0</td>\n      <td>0</td>\n      <td>2</td>\n      <td>0</td>\n      <td>3</td>\n    </tr>\n  </tbody>\n</table>\n</div>"
     },
     "metadata": {},
     "execution_count": 61
    }
   ],
   "source": [
    "from sklearn.metrics import confusion_matrix\n",
    "\n",
    "confusion = pd.DataFrame(\n",
    "    data = confusion_matrix(y_test_mul, pred_log_regr),\n",
    ")\n",
    "\n",
    "confusion.rename(columns = inv_cat_dic, inplace = True)\n",
    "confusion.rename(index = inv_cat_dic, inplace = True)\n",
    "\n",
    "print('Log Regression')\n",
    "confusion"
   ]
  },
  {
   "cell_type": "code",
   "execution_count": 62,
   "metadata": {
    "tags": []
   },
   "outputs": [
    {
     "output_type": "stream",
     "name": "stdout",
     "text": "Multinomial NB\n"
    },
    {
     "output_type": "execute_result",
     "data": {
      "text/plain": "            Dunces  Criminals  Deadbeats  Racists  Homophobes  Sexist  \\\nDunces          11          0          0        0           0       0   \nCriminals        2          0          2        0           0       0   \nDeadbeats        1          0         15        0           0       0   \nRacists          0          0          1        0           0       0   \nHomophobes       1          0          0        0           0       0   \nSexist          12          0          0        0           0       5   \nFrenemies        1          0          0        0           0       0   \nCryptic          6          0          1        0           0       0   \n\n            Frenemies  Cryptic  \nDunces              0        1  \nCriminals           0        0  \nDeadbeats           0        0  \nRacists             0        0  \nHomophobes          1        0  \nSexist              0        0  \nFrenemies           0        0  \nCryptic             0        3  ",
      "text/html": "<div>\n<style scoped>\n    .dataframe tbody tr th:only-of-type {\n        vertical-align: middle;\n    }\n\n    .dataframe tbody tr th {\n        vertical-align: top;\n    }\n\n    .dataframe thead th {\n        text-align: right;\n    }\n</style>\n<table border=\"1\" class=\"dataframe\">\n  <thead>\n    <tr style=\"text-align: right;\">\n      <th></th>\n      <th>Dunces</th>\n      <th>Criminals</th>\n      <th>Deadbeats</th>\n      <th>Racists</th>\n      <th>Homophobes</th>\n      <th>Sexist</th>\n      <th>Frenemies</th>\n      <th>Cryptic</th>\n    </tr>\n  </thead>\n  <tbody>\n    <tr>\n      <th>Dunces</th>\n      <td>11</td>\n      <td>0</td>\n      <td>0</td>\n      <td>0</td>\n      <td>0</td>\n      <td>0</td>\n      <td>0</td>\n      <td>1</td>\n    </tr>\n    <tr>\n      <th>Criminals</th>\n      <td>2</td>\n      <td>0</td>\n      <td>2</td>\n      <td>0</td>\n      <td>0</td>\n      <td>0</td>\n      <td>0</td>\n      <td>0</td>\n    </tr>\n    <tr>\n      <th>Deadbeats</th>\n      <td>1</td>\n      <td>0</td>\n      <td>15</td>\n      <td>0</td>\n      <td>0</td>\n      <td>0</td>\n      <td>0</td>\n      <td>0</td>\n    </tr>\n    <tr>\n      <th>Racists</th>\n      <td>0</td>\n      <td>0</td>\n      <td>1</td>\n      <td>0</td>\n      <td>0</td>\n      <td>0</td>\n      <td>0</td>\n      <td>0</td>\n    </tr>\n    <tr>\n      <th>Homophobes</th>\n      <td>1</td>\n      <td>0</td>\n      <td>0</td>\n      <td>0</td>\n      <td>0</td>\n      <td>0</td>\n      <td>1</td>\n      <td>0</td>\n    </tr>\n    <tr>\n      <th>Sexist</th>\n      <td>12</td>\n      <td>0</td>\n      <td>0</td>\n      <td>0</td>\n      <td>0</td>\n      <td>5</td>\n      <td>0</td>\n      <td>0</td>\n    </tr>\n    <tr>\n      <th>Frenemies</th>\n      <td>1</td>\n      <td>0</td>\n      <td>0</td>\n      <td>0</td>\n      <td>0</td>\n      <td>0</td>\n      <td>0</td>\n      <td>0</td>\n    </tr>\n    <tr>\n      <th>Cryptic</th>\n      <td>6</td>\n      <td>0</td>\n      <td>1</td>\n      <td>0</td>\n      <td>0</td>\n      <td>0</td>\n      <td>0</td>\n      <td>3</td>\n    </tr>\n  </tbody>\n</table>\n</div>"
     },
     "metadata": {},
     "execution_count": 62
    }
   ],
   "source": [
    "confusion_1 = pd.DataFrame(\n",
    "    data = confusion_matrix(y_test_mul, pred_multi),\n",
    ")\n",
    "\n",
    "confusion_1.rename(columns = inv_cat_dic, inplace = True)\n",
    "confusion_1.rename(index = inv_cat_dic, inplace = True)\n",
    "\n",
    "print('Multinomial NB')\n",
    "confusion_1"
   ]
  },
  {
   "cell_type": "code",
   "execution_count": 63,
   "metadata": {
    "tags": []
   },
   "outputs": [
    {
     "output_type": "stream",
     "name": "stdout",
     "text": "Bernoulli NB\n"
    },
    {
     "output_type": "execute_result",
     "data": {
      "text/plain": "            Dunces  Criminals  Deadbeats  Racists  Homophobes  Sexist  \\\nDunces          12          0          0        0           0       0   \nCriminals        2          0          2        0           0       0   \nDeadbeats        7          0          9        0           0       0   \nRacists          1          0          0        0           0       0   \nHomophobes       2          0          0        0           0       0   \nSexist          17          0          0        0           0       0   \nFrenemies        1          0          0        0           0       0   \nCryptic         10          0          0        0           0       0   \n\n            Frenemies  Cryptic  \nDunces              0        0  \nCriminals           0        0  \nDeadbeats           0        0  \nRacists             0        0  \nHomophobes          0        0  \nSexist              0        0  \nFrenemies           0        0  \nCryptic             0        0  ",
      "text/html": "<div>\n<style scoped>\n    .dataframe tbody tr th:only-of-type {\n        vertical-align: middle;\n    }\n\n    .dataframe tbody tr th {\n        vertical-align: top;\n    }\n\n    .dataframe thead th {\n        text-align: right;\n    }\n</style>\n<table border=\"1\" class=\"dataframe\">\n  <thead>\n    <tr style=\"text-align: right;\">\n      <th></th>\n      <th>Dunces</th>\n      <th>Criminals</th>\n      <th>Deadbeats</th>\n      <th>Racists</th>\n      <th>Homophobes</th>\n      <th>Sexist</th>\n      <th>Frenemies</th>\n      <th>Cryptic</th>\n    </tr>\n  </thead>\n  <tbody>\n    <tr>\n      <th>Dunces</th>\n      <td>12</td>\n      <td>0</td>\n      <td>0</td>\n      <td>0</td>\n      <td>0</td>\n      <td>0</td>\n      <td>0</td>\n      <td>0</td>\n    </tr>\n    <tr>\n      <th>Criminals</th>\n      <td>2</td>\n      <td>0</td>\n      <td>2</td>\n      <td>0</td>\n      <td>0</td>\n      <td>0</td>\n      <td>0</td>\n      <td>0</td>\n    </tr>\n    <tr>\n      <th>Deadbeats</th>\n      <td>7</td>\n      <td>0</td>\n      <td>9</td>\n      <td>0</td>\n      <td>0</td>\n      <td>0</td>\n      <td>0</td>\n      <td>0</td>\n    </tr>\n    <tr>\n      <th>Racists</th>\n      <td>1</td>\n      <td>0</td>\n      <td>0</td>\n      <td>0</td>\n      <td>0</td>\n      <td>0</td>\n      <td>0</td>\n      <td>0</td>\n    </tr>\n    <tr>\n      <th>Homophobes</th>\n      <td>2</td>\n      <td>0</td>\n      <td>0</td>\n      <td>0</td>\n      <td>0</td>\n      <td>0</td>\n      <td>0</td>\n      <td>0</td>\n    </tr>\n    <tr>\n      <th>Sexist</th>\n      <td>17</td>\n      <td>0</td>\n      <td>0</td>\n      <td>0</td>\n      <td>0</td>\n      <td>0</td>\n      <td>0</td>\n      <td>0</td>\n    </tr>\n    <tr>\n      <th>Frenemies</th>\n      <td>1</td>\n      <td>0</td>\n      <td>0</td>\n      <td>0</td>\n      <td>0</td>\n      <td>0</td>\n      <td>0</td>\n      <td>0</td>\n    </tr>\n    <tr>\n      <th>Cryptic</th>\n      <td>10</td>\n      <td>0</td>\n      <td>0</td>\n      <td>0</td>\n      <td>0</td>\n      <td>0</td>\n      <td>0</td>\n      <td>0</td>\n    </tr>\n  </tbody>\n</table>\n</div>"
     },
     "metadata": {},
     "execution_count": 63
    }
   ],
   "source": [
    "confusion_2 = pd.DataFrame(\n",
    "    data = confusion_matrix(y_test_mul, pred_bernoulli),\n",
    ")\n",
    "\n",
    "confusion_2.rename(columns = inv_cat_dic, inplace = True)\n",
    "confusion_2.rename(index = inv_cat_dic, inplace = True)\n",
    "\n",
    "print('Bernoulli NB')\n",
    "confusion_2"
   ]
  },
  {
   "cell_type": "code",
   "execution_count": 64,
   "metadata": {
    "tags": []
   },
   "outputs": [
    {
     "output_type": "stream",
     "name": "stdout",
     "text": "Log Regression precision score:  0.5565020210982945\nMultinomial NB precision score:  0.6510147918816649\nBernulli NB precision score:  0.2517482517482518\n"
    }
   ],
   "source": [
    "from sklearn.metrics import precision_score\n",
    "\n",
    "precision = precision_score(\n",
    "    y_test_mul,\n",
    "    pred_log_regr,\n",
    "    pos_label = 2,\n",
    "    average = 'weighted'\n",
    ")\n",
    "\n",
    "precision_1 = precision_score(\n",
    "    y_test_mul,\n",
    "    pred_multi,\n",
    "    pos_label = 2,\n",
    "    average = 'weighted'\n",
    ")\n",
    "\n",
    "precision_2 = precision_score(\n",
    "    y_test_mul,\n",
    "    pred_bernoulli,\n",
    "    pos_label = 2,\n",
    "    average = 'weighted'\n",
    ")\n",
    "\n",
    "print('Log Regression precision score: ', precision)\n",
    "print('Multinomial NB precision score: ', precision_1)\n",
    "print('Bernulli NB precision score: ', precision_2)"
   ]
  },
  {
   "cell_type": "code",
   "execution_count": 65,
   "metadata": {
    "tags": []
   },
   "outputs": [
    {
     "output_type": "stream",
     "name": "stdout",
     "text": "Log Regression recall score:  0.5714285714285714\nMultinomial NB recall score:  0.5396825396825397\nBernulli NB recall score:  0.3333333333333333\n"
    }
   ],
   "source": [
    "from sklearn.metrics import recall_score\n",
    "\n",
    "# recall = recall_score(\n",
    "#     classifier['actual'],\n",
    "#     classifier['predicted'],\n",
    "#     pos_label = 'A'\n",
    "# )\n",
    "\n",
    "recall = recall_score(\n",
    "    y_test_mul,\n",
    "    pred_log_regr,\n",
    "    pos_label = 2,\n",
    "    average = 'weighted'\n",
    ")\n",
    "\n",
    "recall_1 = recall_score(\n",
    "    y_test_mul,\n",
    "    pred_multi,\n",
    "    pos_label = 2,\n",
    "    average = 'weighted'\n",
    ")\n",
    "\n",
    "recall_2 = recall_score(\n",
    "    y_test_mul,\n",
    "    pred_bernoulli,\n",
    "    pos_label = 2,\n",
    "    average = 'weighted'\n",
    ")\n",
    "\n",
    "print('Log Regression recall score: ', recall)\n",
    "print('Multinomial NB recall score: ', recall_1)\n",
    "print('Bernulli NB recall score: ', recall_2)"
   ]
  },
  {
   "cell_type": "code",
   "execution_count": 66,
   "metadata": {
    "tags": []
   },
   "outputs": [
    {
     "output_type": "stream",
     "name": "stdout",
     "text": "Log Regression f1 score:  0.5518273976257169\nMultinomial NB f1 score:  0.4994667168580212\nBernulli NB f1 score:  0.24074074074074073\n"
    }
   ],
   "source": [
    "from sklearn.metrics import f1_score\n",
    "\n",
    "# f1_score(\n",
    "#     classifier['actual'],\n",
    "#     classifier['predicted'],\n",
    "#     pos_label = 'A'\n",
    "# )\n",
    "\n",
    "f1_score_0 = f1_score(\n",
    "    y_test_mul,\n",
    "    pred_log_regr,\n",
    "    pos_label = 2,\n",
    "    average = 'weighted'\n",
    ")\n",
    "\n",
    "f1_score_1 = f1_score(\n",
    "    y_test_mul,\n",
    "    pred_multi,\n",
    "    pos_label = 2,\n",
    "    average = 'weighted'\n",
    ")\n",
    "\n",
    "f1_score_2 = f1_score(\n",
    "    y_test_mul,\n",
    "    pred_bernoulli,\n",
    "    pos_label = 2,\n",
    "    average = 'weighted'\n",
    ")\n",
    "\n",
    "print('Log Regression f1 score: ', f1_score_0)\n",
    "print('Multinomial NB f1 score: ', f1_score_1)\n",
    "print('Bernulli NB f1 score: ', f1_score_2)"
   ]
  },
  {
   "cell_type": "code",
   "execution_count": 67,
   "metadata": {
    "tags": []
   },
   "outputs": [
    {
     "output_type": "stream",
     "name": "stdout",
     "text": "I got good news, and bad news...\nthe bad news is that you will not like the score...\nNow, the good news is that I'm right here to watch your face!!! LOL\nThe score for this algorithm is:  47.61904761904761 %\n\nYour algorithm stinks so much, I could toss a coin and make better predictions =P...\n"
    }
   ],
   "source": [
    "knn_robust = KNeighborsClassifier()\n",
    "knn_robust.fit(scalar.transform(X_train), y_train_mul.values.ravel())\n",
    "model_score_mul(knn_robust)"
   ]
  },
  {
   "cell_type": "code",
   "execution_count": null,
   "metadata": {},
   "outputs": [],
   "source": []
  }
 ],
 "metadata": {
  "kernelspec": {
   "display_name": "Python 3.8.5 64-bit",
   "language": "python",
   "name": "python_defaultSpec_1599523894242"
  },
  "language_info": {
   "codemirror_mode": {
    "name": "ipython",
    "version": 3
   },
   "file_extension": ".py",
   "mimetype": "text/x-python",
   "name": "python",
   "nbconvert_exporter": "python",
   "pygments_lexer": "ipython3",
   "version": "3.8.5-final"
  }
 },
 "nbformat": 4,
 "nbformat_minor": 2
}