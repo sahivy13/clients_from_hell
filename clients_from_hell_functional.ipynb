{
 "cells": [
  {
   "cell_type": "code",
   "execution_count": 1,
   "metadata": {},
   "outputs": [],
   "source": [
    "import requests, time\n",
    "from bs4 import BeautifulSoup as bs\n",
    "import re\n",
    "import pandas as pd\n",
    "import numpy as np\n",
    "from nltk.stem import PorterStemmer\n",
    "from nltk.corpus import stopwords\n",
    "import re\n",
    "from collections import Counter\n",
    "import functools\n",
    "import operator\n",
    "import string\n",
    "from sklearn.model_selection import train_test_split"
   ]
  },
  {
   "cell_type": "code",
   "execution_count": 1,
   "metadata": {},
   "outputs": [],
   "source": [
    "def pipe(obj, *fns):\n",
    "    return reduce(lambda x, y: y(x), [obj] + list(fns))"
   ]
  },
  {
   "cell_type": "code",
   "execution_count": 2,
   "metadata": {},
   "outputs": [],
   "source": [
    "def feature_target_extraction_inhouse(file, feature_col):\n",
    "    df_final = pd.read_csv(file)\n",
    "    df_final.drop(columns = feature_col, inplace = True)\n",
    "    df_new_final = df_final.fillna('0')\n",
    "    features = df_new_final[[col for col in df_new_final.columns if col != 'category']]\n",
    "    features = features.astype(int)\n",
    "    target = df_new_final[['category']]\n",
    "\n",
    "    for i in range(target.shape[0]):\n",
    "        target['category'] = [x.replace(x, '1') if x == 'Deadbeats' else x.replace(x,'0') for x in target['category']]\n",
    "    \n",
    "    target = target.astype(int)\n",
    "    \n",
    "    X_train, X_test, y_train, y_test = train_test_split(\n",
    "        features, # Features (X)\n",
    "        target, # Target (y)\n",
    "        test_size = .2,\n",
    "        random_state = 42\n",
    "    )\n",
    "    return X_train, X_test, y_train, y_test"
   ]
  },
  {
   "cell_type": "code",
   "execution_count": 3,
   "metadata": {},
   "outputs": [],
   "source": [
    "def feature_target_extraction_tf(file, feature_col):\n",
    "    df_final = pd.read_csv(file)\n",
    "    df_final.drop(columns = feature_col, inplace = True)\n",
    "    df_new_final = df_final.fillna('0')\n",
    "    \n",
    "    from sklearn.feature_extraction.text import TfidfVectorizer\n",
    "\n",
    "    tfidf = TfidfVectorizer()\n",
    "    \n",
    "    for col in df_new_final.columns:\n",
    "        \n",
    "        word_count_vectors = tfidf.fit_transform(df_new_final['case'].values).todense().tolist()\n",
    "\n",
    "#     word_count_vectors[0][:5]\n",
    "    features = pd.DataFrame(\n",
    "        data = word_count_vectors,\n",
    "        columns = tfidf.get_feature_names()\n",
    "    )\n",
    "    \n",
    "    features = features.astype(int)\n",
    "    \n",
    "    target = df_new_final[['category']]\n",
    "\n",
    "    for i in range(target.shape[0]):\n",
    "        target['category'] = [x.replace(x, '1') if x == 'Deadbeats' else x.replace(x,'0') for x in target['category']]\n",
    "    \n",
    "    target = target.astype(int)\n",
    "    \n",
    "    X_train, X_test, y_train, y_test = train_test_split(\n",
    "        features, # Features (X)\n",
    "        target, # Target (y)\n",
    "        test_size = .2,\n",
    "        random_state = 42\n",
    "    )\n",
    "    return X_train, X_test, y_train, y_test"
   ]
  },
  {
   "cell_type": "code",
   "execution_count": null,
   "metadata": {},
   "outputs": [],
   "source": [
    "def model_fitting(x):\n",
    "    "
   ]
  }
 ],
 "metadata": {
  "kernelspec": {
   "display_name": "Python 3",
   "language": "python",
   "name": "python3"
  },
  "language_info": {
   "codemirror_mode": {
    "name": "ipython",
    "version": 3
   },
   "file_extension": ".py",
   "mimetype": "text/x-python",
   "name": "python",
   "nbconvert_exporter": "python",
   "pygments_lexer": "ipython3",
   "version": "3.7.4"
  }
 },
 "nbformat": 4,
 "nbformat_minor": 2
}
